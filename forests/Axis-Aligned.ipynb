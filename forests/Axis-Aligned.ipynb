{
 "cells": [
  {
   "cell_type": "code",
   "execution_count": 1,
   "metadata": {},
   "outputs": [],
   "source": [
    "import numpy as np\n",
    "from scipy.stats import special_ortho_group\n",
    "import jax.numpy as jnp\n",
    "from jax import grad, vmap\n",
    "from Mondrian_forest import *\n",
    "from sklearn.metrics import mean_squared_error\n",
    "from numpy.linalg import norm\n",
    "from tqdm import tqdm\n",
    "import matplotlib.pyplot as plt\n",
    "import pandas as pd\n",
    "import pickle\n",
    "\n",
    "dim_in = 8\n",
    "active = 2\n",
    "def simulate_y(x, rotation, seed = 0, noise_sig2 = 0.0001):\n",
    "    res = jnp.dot(x, rotation)\n",
    "    projected = jnp.concatenate([jnp.ones(active), jnp.zeros(dim_in - active)])\n",
    "    y = jnp.dot(res ** 4, projected)\n",
    "    r_noise = np.random.RandomState(seed)\n",
    "    #n = len(x)\n",
    "    noise = r_noise.randn(1)[0] * jnp.sqrt(noise_sig2)\n",
    "    y = y + noise\n",
    "    return y\n",
    "\n",
    "\n",
    "n = 2000\n",
    "n_test = 1000\n",
    "tries = 10\n",
    "\n",
    "'''\n",
    "x_train, y_train, x_test, y_test, rotation = pickle.load(open('data.pickle', 'rb'))\n",
    "\n",
    "x_test = x_test[:n_test]\n",
    "y_test = y_test[:n_test]\n",
    "\n",
    "'''\n",
    "#rotation = special_ortho_group.rvs(dim_in)\n",
    "rotation = np.identity(dim_in)\n",
    "x_train = np.random.rand(n,dim_in)*2 - 1\n",
    "y_train = simulate_y(x_train, rotation)\n",
    "\n",
    "x_test = np.random.rand(1000,dim_in)*2 - 1\n",
    "y_test = simulate_y(x_test, rotation)\n",
    "\n",
    "\n",
    "sample_range = [100, 200, 400, 800, 1600]\n",
    "\n",
    "M = 20                      # number of Mondrian trees to use\n",
    "delta = 0                   # ridge regression delta"
   ]
  },
  {
   "cell_type": "code",
   "execution_count": 2,
   "metadata": {},
   "outputs": [],
   "source": [
    "pickle.dump([x_train, y_train, x_test, y_test, rotation], open('axis_aligned_data.pickle', 'wb'))"
   ]
  },
  {
   "cell_type": "code",
   "execution_count": 3,
   "metadata": {},
   "outputs": [],
   "source": [
    "W_grad = vmap(grad(simulate_y, argnums=0), in_axes=(0, None), out_axes=0)(x_test, rotation)\n",
    "from numpy import linalg\n",
    "true_H = jnp.matmul(jnp.transpose(W_grad), W_grad) / n_test\n",
    "norm_H = linalg.norm(true_H, ord = 2)"
   ]
  },
  {
   "cell_type": "code",
   "execution_count": 4,
   "metadata": {},
   "outputs": [],
   "source": [
    "def plot_trend(stats, x_axis, y_axis, title, xlabel = None, ylabel = None):\n",
    "    df = pd.DataFrame(stats)\n",
    "\n",
    "    # Prepare the data for plotting\n",
    "    plot_data = [df[y_axis][i] for i in range(len(df))]\n",
    "\n",
    "    # Create the boxplot\n",
    "    plt.boxplot(plot_data, labels=[str(x[x_axis]) for x in stats])\n",
    "\n",
    "    # Add titles and labels\n",
    "    plt.title(title)\n",
    "    if xlabel is None:\n",
    "        xlabel = x_axis\n",
    "    if ylabel is None:\n",
    "        ylabel = y_axis\n",
    "    plt.xlabel(xlabel)\n",
    "    plt.ylabel(ylabel)\n",
    "\n",
    "    # Show the plot\n",
    "    plt.show()"
   ]
  },
  {
   "cell_type": "markdown",
   "metadata": {},
   "source": [
    "# Save training history"
   ]
  },
  {
   "cell_type": "code",
   "execution_count": 5,
   "metadata": {},
   "outputs": [
    {
     "name": "stderr",
     "output_type": "stream",
     "text": [
      "  0%|          | 0/10 [00:00<?, ?it/s]"
     ]
    },
    {
     "name": "stderr",
     "output_type": "stream",
     "text": [
      "100%|██████████| 10/10 [00:08<00:00,  1.12it/s]\n",
      "100%|██████████| 10/10 [00:07<00:00,  1.31it/s]\n",
      "100%|██████████| 10/10 [00:20<00:00,  2.08s/it]\n",
      "100%|██████████| 10/10 [00:49<00:00,  4.95s/it]\n",
      "100%|██████████| 10/10 [02:13<00:00, 13.38s/it]\n"
     ]
    }
   ],
   "source": [
    "lifetime = 4\n",
    "\n",
    "stats = []\n",
    "for i in range(len(sample_range)):\n",
    "    n_sim = sample_range[i]\n",
    "    dist = {'n': n_sim, 'history': []}\n",
    "    for trial in tqdm(range(tries)):\n",
    "        y_hat_test, history, X_bd_all, w_trees = one_run(\n",
    "            x_train[:n_sim, ], y_train[:n_sim, ], x_test, M, lifetime, delta\n",
    "        )\n",
    "        dist['history'].append([y_hat_test, history, X_bd_all, w_trees])\n",
    "    stats.append(dist)"
   ]
  },
  {
   "cell_type": "markdown",
   "metadata": {},
   "source": [
    "# Get H estimate"
   ]
  },
  {
   "cell_type": "code",
   "execution_count": 6,
   "metadata": {},
   "outputs": [
    {
     "name": "stderr",
     "output_type": "stream",
     "text": [
      "100%|██████████| 10/10 [01:04<00:00,  6.41s/it]\n",
      "100%|██████████| 10/10 [00:50<00:00,  5.03s/it]\n",
      "100%|██████████| 10/10 [01:02<00:00,  6.26s/it]\n",
      "100%|██████████| 10/10 [01:58<00:00, 11.89s/it]\n",
      "100%|██████████| 10/10 [05:27<00:00, 32.73s/it]\n"
     ]
    }
   ],
   "source": [
    "def get_H_estimates(stats, x_train, x_test, y_test, M, delta, estimate_H):\n",
    "    H_est = []\n",
    "    for i in range(len(sample_range)):\n",
    "        n_sim = sample_range[i]\n",
    "        dist = {'n': n_sim, 'mse': [], 'H': []}\n",
    "        for trial in tqdm(range(tries)):\n",
    "            y_hat_test, history, X_bd_all, w_trees = \\\n",
    "                stats[i]['history'][trial]\n",
    "            dist['mse'].append(mean_squared_error(y_test, y_hat_test))\n",
    "            H_0 = estimate_H_ind(x_train, y_train, X_bd_all, M, x_test, history, w_trees, y_hat_test)\n",
    "            dist['H'].append(H_0)\n",
    "        H_est.append(dist)\n",
    "        \n",
    "    return H_est\n",
    "\n",
    "raw_H_estimates = get_H_estimates(stats, x_train, x_test, y_test, M, delta, estimate_H_ind)"
   ]
  },
  {
   "cell_type": "code",
   "execution_count": 7,
   "metadata": {},
   "outputs": [],
   "source": [
    "def operator_norm(H, truth):\n",
    "    norm_truth = norm(truth, ord = 2)\n",
    "    return norm(truth - H, ord = 2)/norm_truth\n",
    "\n",
    "def get_eig(A):\n",
    "    eigenValues, eigenVectors = linalg.eig(A)\n",
    "\n",
    "    idx = eigenValues.argsort()[::-1]   \n",
    "    eigenValues = eigenValues[idx]\n",
    "    eigenVectors = eigenVectors[:,idx]\n",
    "    return eigenVectors\n",
    "\n",
    "def get_angle_distance(H, truth):\n",
    "    dim_proj = active\n",
    "    proj = np.identity(dim_proj)\n",
    "    proj = np.pad(proj, [(0, dim_in - dim_proj), (0, dim_in - dim_proj)], mode='constant')\n",
    "    \n",
    "    eigenvectors = get_eig(H)\n",
    "    Q_H, _ = linalg.qr(eigenvectors[:, :active])\n",
    "    \n",
    "    eigenvectors = get_eig(truth)\n",
    "    Q_t, _ = linalg.qr(eigenvectors[:, :active])\n",
    "\n",
    "    D = np.matmul(np.transpose(Q_H), Q_t)\n",
    "    U, S, Vh = np.linalg.svd(D, full_matrices=True)\n",
    "    S = np.minimum(S, 1)\n",
    "    return np.max(np.arccos(S))"
   ]
  },
  {
   "cell_type": "code",
   "execution_count": 8,
   "metadata": {},
   "outputs": [],
   "source": [
    "def plot_dist(H_estimates, title, true_H, norm_H, norm_func):\n",
    "    plot_data = []\n",
    "    for i in range(len(sample_range)):\n",
    "        dist = H_estimates[i]\n",
    "        n_sim = sample_range[i]\n",
    "        alter_dist = {'n': n_sim, 'dist':[]}\n",
    "        for trial in range(tries):\n",
    "            H_0 = dist['H'][trial]\n",
    "            alter_dist['dist'].append(norm_func(H_0, true_H))\n",
    "        plot_data.append(alter_dist)\n",
    "    try:\n",
    "        plot_trend(plot_data, 'n', 'dist', title, ylabel='Operator distance from the True H')\n",
    "    except:\n",
    "        pass\n",
    "\n",
    "\n",
    "def plot_H_estimates(raw_H_estimates, true_H, norm_func):\n",
    "\n",
    "    norm_H = norm(true_H, ord = 2)\n",
    "    plot_dist(raw_H_estimates, 'Unnormalised', true_H, norm_H, norm_func)"
   ]
  },
  {
   "cell_type": "code",
   "execution_count": 9,
   "metadata": {},
   "outputs": [
    {
     "data": {
      "image/png": "[encoded data removed]",
      "text/plain": [
       "<Figure size 640x480 with 1 Axes>"
      ]
     },
     "metadata": {},
     "output_type": "display_data"
    }
   ],
   "source": [
    "np.set_printoptions(precision=4)\n",
    "plot_H_estimates(raw_H_estimates, true_H, get_angle_distance)"
   ]
  },
  {
   "cell_type": "markdown",
   "metadata": {},
   "source": [
    "# Eliza's method for estimating gradients"
   ]
  },
  {
   "cell_type": "code",
   "execution_count": 10,
   "metadata": {},
   "outputs": [],
   "source": [
    "def estimate_H_ind_(x_train, y_train, X_bd_all, M, X_test, history, delta, y_hat_test):\n",
    "    dim_in = X_test.shape[1]\n",
    "    N_test = X_test.shape[0]\n",
    "    importance = []\n",
    "    for dim in range(dim_in):\n",
    "        try:\n",
    "            x_eval = None\n",
    "            y_eval = []\n",
    "            x_diff = []\n",
    "            subset_all = []\n",
    "            for tree in range(M):\n",
    "                temp = X_bd_all[tree,dim] - X_test\n",
    "                subset = temp[:,dim] != 0\n",
    "                subset_all = subset_all + list(subset)\n",
    "                \n",
    "                if sum(subset) > 0:\n",
    "                    if x_eval is None:\n",
    "                        x_eval = X_bd_all[tree,dim][subset]\n",
    "                    else:\n",
    "                        x_eval = np.vstack((x_eval, X_bd_all[tree,dim][subset]))\n",
    "                    y_eval = y_eval + y_hat_test[subset].tolist()\n",
    "                    x_diff = x_diff + list(temp[:,dim][subset])\n",
    "            \n",
    "            _, y_hat_eval = evaluate(x_train, y_train, x_eval, M, history, delta)\n",
    "            y_eval = np.array(y_eval)\n",
    "            x_diff = np.abs(x_diff)\n",
    "            y_diff = populate_importance(subset_all, y_eval - y_hat_eval)\n",
    "            x_diff = populate_importance(subset_all, x_diff)\n",
    "            y_diff = np.reshape(y_diff, (N_test, M))\n",
    "            x_diff = np.reshape(x_diff, (N_test, M))\n",
    "            y_diff = np.mean(y_diff, axis = 1)\n",
    "            x_diff = np.mean(x_diff, axis = 1)\n",
    "            y_diff[x_diff == 0] = 0\n",
    "            x_diff[x_diff == 0] = 1\n",
    "            importance_temp = y_diff/x_diff\n",
    "        except:\n",
    "            importance_temp = np.zeros(N_test)\n",
    "        importance.append(importance_temp)\n",
    "    importance = np.vstack(importance)\n",
    "\n",
    "    H = np.matmul(importance, np.transpose(importance))/N_test\n",
    "    return H\n",
    "\n",
    "#alter_H_estimates = get_H_estimates(stats, x_train, x_test, y_test, M, delta, estimate_H_ind_)"
   ]
  },
  {
   "cell_type": "code",
   "execution_count": 12,
   "metadata": {},
   "outputs": [],
   "source": [
    "#plot_H_estimates(alter_H_estimates, true_H, get_angle_distance)"
   ]
  },
  {
   "cell_type": "code",
   "execution_count": 13,
   "metadata": {},
   "outputs": [],
   "source": [
    "lifetime_max = 5\n",
    "n_sim = 1600\n",
    "results = []\n",
    "results.append(\n",
    "    evaluate_all_lifetimes(x_train[:n_sim, ], \n",
    "                           y_train[:n_sim], \n",
    "                           x_test, y_test, M, lifetime_max, delta))"
   ]
  },
  {
   "cell_type": "code",
   "execution_count": null,
   "metadata": {},
   "outputs": [],
   "source": [
    "x_train_transformed, x_test_transformed = transform_data(true_H/two_one_norm(true_H), x_train, x_test)\n",
    "results.append(\n",
    "    evaluate_all_lifetimes(x_train_transformed[:n_sim, ], \n",
    "                           y_train[:n_sim], \n",
    "                           x_test_transformed, y_test, M, lifetime_max, delta))"
   ]
  },
  {
   "cell_type": "code",
   "execution_count": null,
   "metadata": {},
   "outputs": [],
   "source": [
    "x_train_transformed, x_test_transformed = transform_data(raw_H_estimates[4]['H'][0]/two_one_norm(raw_H_estimates[4]['H'][0]), x_train, x_test)\n",
    "results.append(\n",
    "    evaluate_all_lifetimes(x_train_transformed[:n_sim, ], \n",
    "                           y_train[:n_sim], \n",
    "                           x_test_transformed, y_test, M, lifetime_max, delta))"
   ]
  },
  {
   "cell_type": "code",
   "execution_count": null,
   "metadata": {},
   "outputs": [
    {
     "data": {
      "text/plain": [
       "<matplotlib.legend.Legend at 0x33cd88190>"
      ]
     },
     "execution_count": 15,
     "metadata": {},
     "output_type": "execute_result"
    },
    {
     "data": {
      "image/png": "[encoded data removed]",
      "text/plain": [
       "<Figure size 640x480 with 1 Axes>"
      ]
     },
     "metadata": {},
     "output_type": "display_data"
    }
   ],
   "source": [
    "plt.plot(results[0][0]['times'], results[0][0]['mse'], label = 'no transformation')\n",
    "plt.plot(results[1][0]['times'], results[1][0]['mse'], label = 'transform by true H')\n",
    "plt.plot(results[2][0]['times'], results[2][0]['mse'], label = 'transform by estimated H')\n",
    "plt.legend()"
   ]
  },
  {
   "cell_type": "code",
   "execution_count": null,
   "metadata": {},
   "outputs": [
    {
     "ename": "NameError",
     "evalue": "name 'raw_H_estimates' is not defined",
     "output_type": "error",
     "traceback": [
      "\u001b[0;31m---------------------------------------------------------------------------\u001b[0m",
      "\u001b[0;31mNameError\u001b[0m                                 Traceback (most recent call last)",
      "\u001b[1;32m/Users/yangxinyuxie/Desktop/Mondrian Forests/vie/forests/Axis-Aligned.ipynb Cell 19\u001b[0m line \u001b[0;36m1\n\u001b[0;32m----> <a href='vscode-notebook-cell:/Users/yangxinyuxie/Desktop/Mondrian%20Forests/vie/forests/Axis-Aligned.ipynb#X24sZmlsZQ%3D%3D?line=0'>1</a>\u001b[0m raw_H_estimates[\u001b[39m4\u001b[39m][\u001b[39m'\u001b[39m\u001b[39mH\u001b[39m\u001b[39m'\u001b[39m][\u001b[39m0\u001b[39m]\u001b[39m/\u001b[39mtwo_one_norm(raw_H_estimates[\u001b[39m4\u001b[39m][\u001b[39m'\u001b[39m\u001b[39mH\u001b[39m\u001b[39m'\u001b[39m][\u001b[39m0\u001b[39m])\n",
      "\u001b[0;31mNameError\u001b[0m: name 'raw_H_estimates' is not defined"
     ]
    }
   ],
   "source": [
    "raw_H_estimates[4]['H'][0]/two_one_norm(raw_H_estimates[4]['H'][0])"
   ]
  }
 ],
 "metadata": {
  "kernelspec": {
   "display_name": "venv",
   "language": "python",
   "name": "python3"
  },
  "language_info": {
   "codemirror_mode": {
    "name": "ipython",
    "version": 3
   },
   "file_extension": ".py",
   "mimetype": "text/x-python",
   "name": "python",
   "nbconvert_exporter": "python",
   "pygments_lexer": "ipython3",
   "version": "3.10.9"
  },
  "orig_nbformat": 4
 },
 "nbformat": 4,
 "nbformat_minor": 2
}
