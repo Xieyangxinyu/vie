{
 "cells": [
  {
   "cell_type": "markdown",
   "metadata": {},
   "source": [
    "## Eliza's proposed method for computing the derivative"
   ]
  },
  {
   "cell_type": "code",
   "execution_count": 1,
   "metadata": {},
   "outputs": [],
   "source": [
    "import numpy as np\n",
    "from scipy.stats import special_ortho_group\n",
    "import jax.numpy as jnp\n",
    "from jax import grad, vmap\n",
    "from Mondrian_forest import *\n",
    "from sklearn.metrics import mean_squared_error\n",
    "from numpy.linalg import norm\n",
    "from tqdm import tqdm\n",
    "import matplotlib.pyplot as plt\n",
    "import pandas as pd\n",
    "import pickle\n",
    "\n",
    "dim_in = 5\n",
    "active = 3\n",
    "def simulate_y(x, rotation, seed = 0, noise_sig2 = 0.0001):\n",
    "    res = jnp.dot(x, rotation)\n",
    "    projected = jnp.concatenate([jnp.ones(active), jnp.zeros(dim_in - active)])\n",
    "    y = jnp.dot(res ** 4, projected)\n",
    "    r_noise = np.random.RandomState(seed)\n",
    "    #n = len(x)\n",
    "    noise = r_noise.randn(1)[0] * jnp.sqrt(noise_sig2)\n",
    "    y = y + noise\n",
    "    return y\n",
    "\n",
    "\n",
    "n = 3200\n",
    "x_train_, y_train_, x_test, y_test, rotation = pickle.load(open('data.pickle', 'rb'))\n",
    "x_train = np.random.rand(n - 2000,dim_in)*2 - 1\n",
    "y_train = simulate_y(x_train, rotation)\n",
    "\n",
    "x_train = np.concatenate([x_train_, x_train], axis = 0)\n",
    "y_train = np.concatenate([y_train_, y_train])\n",
    "\n",
    "x_test = x_test[:500]\n",
    "y_test = y_test[:500]\n",
    "\n",
    "sample_range = [100, 200, 400, 800, 1600, 3200]\n",
    "\n",
    "M = 20                      # number of Mondrian trees to use\n",
    "delta = 0                   # ridge regression delta"
   ]
  },
  {
   "cell_type": "code",
   "execution_count": 4,
   "metadata": {},
   "outputs": [
    {
     "name": "stderr",
     "output_type": "stream",
     "text": [
      "100%|██████████| 1/1 [08:04<00:00, 484.24s/it]"
     ]
    },
    {
     "name": "stdout",
     "output_type": "stream",
     "text": [
      "min mse: 0.19414798170372216\n",
      "time: 2.9951165240420248\n"
     ]
    },
    {
     "name": "stderr",
     "output_type": "stream",
     "text": [
      "\n"
     ]
    },
    {
     "data": {
      "image/png": "[encoded data removed]",
      "text/plain": [
       "<Figure size 640x480 with 1 Axes>"
      ]
     },
     "metadata": {},
     "output_type": "display_data"
    }
   ],
   "source": [
    "lifetime_max = 3\n",
    "for n_sim in tqdm([3200]):\n",
    "    results = evaluate_all_lifetimes(x_train[:n_sim, ], y_train[:n_sim], x_test, y_test, M, lifetime_max, delta)\n",
    "    print(\"min mse: \" + str(min(results['mse'])))\n",
    "    print(\"time: \" + str(results['times'][np.where(results['mse'] == min(results['mse']))[0][0]]))\n",
    "    plt.plot(results['times'], results['mse'], label = 'n = ' + str(n_sim))\n",
    "    plt.legend()"
   ]
  },
  {
   "cell_type": "markdown",
   "metadata": {},
   "source": [
    "## Iteratively Reapplying H to transform data"
   ]
  },
  {
   "cell_type": "code",
   "execution_count": null,
   "metadata": {},
   "outputs": [],
   "source": [
    "from Mondrian_forest import estimate_H\n",
    "\n",
    "stats = {}\n",
    "lifetime_max = 1.8\n",
    "iterations = 8\n",
    "decrement = 0\n",
    "beam_width = 3\n",
    "for n_sim in [2000]:\n",
    "    stats[n_sim] = []\n",
    "    #print(f\"number of training samples: {n_sim}\")\n",
    "    for index in range(5):\n",
    "        explore = []\n",
    "        exploit = []\n",
    "        results = {'full': [], 'partial': []}\n",
    "        mse, X_bd_all, X, history, y_hat_train = train_and_evaluate(\n",
    "            x_train[:n_sim, ], y_train[:n_sim], x_test, y_test, M, lifetime_max, delta)\n",
    "\n",
    "        exploit.append((np.identity(dim_in), mse, lifetime_max))\n",
    "        H_0 = estimate_H(x_train[:n_sim, ], y_train[:n_sim], X_bd_all, M, X, history, delta, y_hat_train)\n",
    "        H_0 = H_0 / two_one_norm(H_0)\n",
    "        #print(f\"mse before:{mse:.5f}\")\n",
    "        #print(\"full\")\n",
    "        results['full'].append(mse)\n",
    "        x_train_transformed, x_test_transformed = transform_data(H_0, x_train[:n_sim, ], x_test)\n",
    "        lifetime = lifetime_max\n",
    "        explore.append(H_0)\n",
    "        for reiterate in range(iterations):\n",
    "\n",
    "            lifetime -= decrement\n",
    "            new_beam = exploit.copy()\n",
    "\n",
    "            for H in explore:\n",
    "                x_train_transformed, x_test_transformed = transform_data(H, x_train[:n_sim, ], x_test)\n",
    "                mse_temp, _, _, _, _, _ = train_and_evaluate(x_train_transformed, y_train[:n_sim], \n",
    "                                                                x_test_transformed, y_test, M, lifetime, delta)\n",
    "                new_beam.append((H, mse_temp, lifetime))\n",
    "            explore = []\n",
    "\n",
    "            #print(get_angle_distance(H, true_H))\n",
    "            for H, mse, _ in exploit:\n",
    "                x_train_transformed, x_test_transformed = transform_data(H, x_train[:n_sim, ], x_test)\n",
    "                for round in range(beam_width):\n",
    "                    mse_temp, H_temp = experiment(x_train_transformed, y_train[:n_sim],\n",
    "                                                x_test_transformed, y_test, M, lifetime, delta, H)\n",
    "                    new_beam.append((H, mse_temp, lifetime))\n",
    "                    explore.append(H_temp)\n",
    "\n",
    "            new_beam.sort(key=lambda x: x[1])\n",
    "            exploit = new_beam[:beam_width]\n",
    "            \n",
    "            mse = exploit[0][1]\n",
    "            #print(f'mse: {exploit[0][1]:.5f}, lifetime: {exploit[0][2]:.2f}')\n",
    "            results['full'].append(mse)\n",
    "        stats[n_sim].append(results)"
   ]
  }
 ],
 "metadata": {
  "kernelspec": {
   "display_name": "venv",
   "language": "python",
   "name": "python3"
  },
  "language_info": {
   "codemirror_mode": {
    "name": "ipython",
    "version": 3
   },
   "file_extension": ".py",
   "mimetype": "text/x-python",
   "name": "python",
   "nbconvert_exporter": "python",
   "pygments_lexer": "ipython3",
   "version": "3.10.9"
  },
  "orig_nbformat": 4
 },
 "nbformat": 4,
 "nbformat_minor": 2
}
