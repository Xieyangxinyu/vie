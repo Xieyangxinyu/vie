{
 "cells": [
  {
   "cell_type": "code",
   "execution_count": 1,
   "metadata": {},
   "outputs": [],
   "source": [
    "import os\n",
    "import pandas as pd\n",
    "import jax.numpy as jnp\n",
    "import numpy as np\n",
    "\n",
    "data_path = os.path.join(\"./datasets/\")"
   ]
  },
  {
   "cell_type": "code",
   "execution_count": 2,
   "metadata": {},
   "outputs": [],
   "source": [
    "# @title prepare_training_data\n",
    "def prepare_training_data(data, n_obs):\n",
    "  df_train = data.head(n_obs)\n",
    "  df_test = data.tail(40)\n",
    "\n",
    "  x_train, y_train, f_train = df_train, df_train.pop(\"y\"), df_train.pop(\"f\")\n",
    "  x_test, y_test, f_test = df_test, df_test.pop(\"y\"), df_test.pop(\"f\")\n",
    "\n",
    "  x_train = x_train.to_numpy()\n",
    "  x_test = x_test.to_numpy()\n",
    "\n",
    "  y_train = y_train.to_numpy().reshape(-1, 1).ravel()\n",
    "  y_test = y_test.to_numpy().reshape(-1, 1).ravel()  \n",
    "  return x_train, y_train, x_test, y_test"
   ]
  },
  {
   "cell_type": "code",
   "execution_count": 14,
   "metadata": {},
   "outputs": [
    {
     "name": "stdout",
     "output_type": "stream",
     "text": [
      "Data 'matern32_n500_d50_i7.csv'\t"
     ]
    }
   ],
   "source": [
    "dataset_name = 'adult' # @param ['cat', 'cont', 'adult', 'heart', 'mi'] \n",
    "outcome_type = 'matern32' # @param ['linear', 'rbf', 'matern32', 'complex']\n",
    "n_obs = 500 # @param [100, 200, 500, 1000]\n",
    "dim_in = 50 # @param [25, 50, 100, 200]\n",
    "rep = 7 # @param \n",
    "\n",
    "data_file = f\"{outcome_type}_n{n_obs}_d{dim_in}_i{rep}.csv\"\n",
    "data_file_path = os.path.join(data_path, dataset_name, data_file)\n",
    "print(f\"Data '{data_file}'\", end='\\t', flush=True)  \n",
    "\n",
    "data = pd.read_csv(data_file_path, index_col=0)  \n",
    "x_train, y_train, x_test, y_test = prepare_training_data(data, n_obs)"
   ]
  },
  {
   "cell_type": "code",
   "execution_count": 15,
   "metadata": {},
   "outputs": [],
   "source": [
    "from vie import get_fdt_model\n",
    "fdt_out = get_fdt_model(x_train, y_train, c=0.1, sig2=0.01, n_tree=20, \n",
    "                            compute_psi=True, batch_size=20, n_samp=10, seed=0)"
   ]
  },
  {
   "cell_type": "code",
   "execution_count": 16,
   "metadata": {},
   "outputs": [
    {
     "data": {
      "text/plain": [
       "98.03859110836284"
      ]
     },
     "execution_count": 16,
     "metadata": {},
     "output_type": "execute_result"
    }
   ],
   "source": [
    "f = fdt_out[1]\n",
    "map_matrix = fdt_out[3][\"map_matrix\"]\n",
    "feature = fdt_out[3][\"feature\"]\n",
    "threshold = fdt_out[3][\"threshold\"]\n",
    "beta = fdt_out[3][\"beta\"]\n",
    "pred_test = np.array(f(x_test, map_matrix, feature, threshold, beta))\n",
    "np.mean((y_test - np.mean(pred_test, 1)) ** 2)"
   ]
  },
  {
   "cell_type": "code",
   "execution_count": 17,
   "metadata": {},
   "outputs": [],
   "source": [
    "grad_fs = fdt_out[2]\n",
    "betas = fdt_out[3][\"betas\"]\n",
    "psi_est = np.array(grad_fs(x_test, map_matrix, feature, threshold, betas))\n",
    "grad_train = np.mean(psi_est, axis=(0,1))\n",
    "psi_test = np.median(grad_train, axis=0)"
   ]
  },
  {
   "cell_type": "code",
   "execution_count": 18,
   "metadata": {},
   "outputs": [],
   "source": [
    "from jax import vmap\n",
    "from jax.numpy import outer\n",
    "#grad_train = fdt_out[0]\n",
    "vouter = vmap(outer)\n",
    "H_hat = jnp.mean(vouter(grad_train, grad_train), axis = 0)"
   ]
  },
  {
   "cell_type": "code",
   "execution_count": 19,
   "metadata": {},
   "outputs": [],
   "source": [
    "y = jnp.linalg.eig(H_hat)[0]\n",
    "y_diag = jnp.diagonal(H_hat)\n",
    "y_diag = jnp.sort(y_diag)[::-1]"
   ]
  },
  {
   "cell_type": "code",
   "execution_count": 20,
   "metadata": {},
   "outputs": [
    {
     "name": "stderr",
     "output_type": "stream",
     "text": [
      "/Users/yangxinyuxie/miniforge3/envs/venv/lib/python3.10/site-packages/jax/_src/array.py:351: ComplexWarning: Casting complex values to real discards the imaginary part\n",
      "  return np.asarray(self._value, dtype=dtype)\n"
     ]
    },
    {
     "data": {
      "image/png": "[encoded data removed]",
      "text/plain": [
       "<Figure size 640x480 with 1 Axes>"
      ]
     },
     "metadata": {},
     "output_type": "display_data"
    }
   ],
   "source": [
    "import matplotlib.pyplot as plt\n",
    "x = np.linspace(0, dim_in-1, dim_in)\n",
    "\n",
    "fig, ax = plt.subplots()\n",
    "\n",
    "ax.plot(x, y, linewidth=2.0, label = \"eig\")\n",
    "ax.plot(x, y_diag, linewidth=2.0, label = \"diagonal\")\n",
    "plt.legend()\n",
    "\n",
    "plt.show()"
   ]
  }
 ],
 "metadata": {
  "kernelspec": {
   "display_name": "venv",
   "language": "python",
   "name": "python3"
  },
  "language_info": {
   "codemirror_mode": {
    "name": "ipython",
    "version": 3
   },
   "file_extension": ".py",
   "mimetype": "text/x-python",
   "name": "python",
   "nbconvert_exporter": "python",
   "pygments_lexer": "ipython3",
   "version": "3.10.9"
  },
  "orig_nbformat": 4,
  "vscode": {
   "interpreter": {
    "hash": "d59b506a0e703b59755888ed29552127d9b4544333d10d3ff144388b8386bf11"
   }
  }
 },
 "nbformat": 4,
 "nbformat_minor": 2
}
