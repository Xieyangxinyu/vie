{
 "cells": [
  {
   "cell_type": "code",
   "execution_count": 1,
   "metadata": {},
   "outputs": [],
   "source": [
    "import os\n",
    "import pandas as pd\n",
    "import jax.numpy as jnp\n",
    "import numpy as np\n",
    "\n",
    "data_path = os.path.join(\"./datasets/\")"
   ]
  },
  {
   "cell_type": "code",
   "execution_count": 2,
   "metadata": {},
   "outputs": [],
   "source": [
    "# @title prepare_training_data\n",
    "def prepare_training_data(data, n_obs):\n",
    "  df_train = data.head(n_obs)\n",
    "  df_test = data.tail(40)\n",
    "\n",
    "  x_train, y_train, f_train = df_train, df_train.pop(\"y\"), df_train.pop(\"f\")\n",
    "  x_test, y_test, f_test = df_test, df_test.pop(\"y\"), df_test.pop(\"f\")\n",
    "\n",
    "  x_train = x_train.to_numpy()\n",
    "  x_test = x_test.to_numpy()\n",
    "\n",
    "  y_train = y_train.to_numpy().reshape(-1, 1).ravel()\n",
    "  y_test = y_test.to_numpy().reshape(-1, 1).ravel()  \n",
    "  return x_train, y_train, x_test, y_test"
   ]
  },
  {
   "cell_type": "code",
   "execution_count": 3,
   "metadata": {},
   "outputs": [
    {
     "name": "stdout",
     "output_type": "stream",
     "text": [
      "Data 'matern32_n200_d25_i1.csv'\t"
     ]
    }
   ],
   "source": [
    "dataset_name = 'adult' # @param ['cat', 'cont', 'adult', 'heart', 'mi'] \n",
    "outcome_type = 'matern32' # @param ['linear', 'rbf', 'matern32', 'complex']\n",
    "n_obs = 200 # @param [100, 200, 500, 1000]\n",
    "dim_in = 25 # @param [25, 50, 100, 200]\n",
    "rep = 1 # @param \n",
    "\n",
    "data_file = f\"{outcome_type}_n{n_obs}_d{dim_in}_i{rep}.csv\"\n",
    "data_file_path = os.path.join(data_path, dataset_name, data_file)\n",
    "print(f\"Data '{data_file}'\", end='\\t', flush=True)  \n",
    "\n",
    "data = pd.read_csv(data_file_path, index_col=0)  \n",
    "x_train, y_train, x_test, y_test = prepare_training_data(data, n_obs)"
   ]
  },
  {
   "cell_type": "code",
   "execution_count": 4,
   "metadata": {},
   "outputs": [
    {
     "name": "stdout",
     "output_type": "stream",
     "text": [
      "Shapes: psi_est_all: (2000, 1, 20, 25), grad_train: (20, 25), psi_est: (25,)\n"
     ]
    }
   ],
   "source": [
    "from vie import get_fdt_model\n",
    "fdt_out = get_fdt_model(x_train, y_train, c=0.1, sig2=0.01, n_tree=20, \n",
    "                            compute_psi=True, batch_size=1, n_samp=10, seed=0)\n",
    "# number of observations = 200\n",
    "# number of samples for beta, given each x, = 10\n",
    "# number of poster samples = 100 * 10 = 1000\n",
    "# number of trees = 20\n",
    "# number of features = 50"
   ]
  },
  {
   "cell_type": "code",
   "execution_count": 5,
   "metadata": {},
   "outputs": [
    {
     "data": {
      "text/plain": [
       "(2000, 1, 20, 25)"
      ]
     },
     "execution_count": 5,
     "metadata": {},
     "output_type": "execute_result"
    }
   ],
   "source": [
    "psi_est_all = fdt_out[0]\n",
    "psi_est_all.shape"
   ]
  },
  {
   "cell_type": "code",
   "execution_count": 6,
   "metadata": {},
   "outputs": [
    {
     "data": {
      "text/plain": [
       "(2000, 20, 25)"
      ]
     },
     "execution_count": 6,
     "metadata": {},
     "output_type": "execute_result"
    }
   ],
   "source": [
    "psi_est_all = psi_est_all.reshape(psi_est_all.shape[0], psi_est_all.shape[2], psi_est_all.shape[3])\n",
    "psi_est_all.shape"
   ]
  },
  {
   "cell_type": "code",
   "execution_count": 7,
   "metadata": {},
   "outputs": [
    {
     "data": {
      "text/plain": [
       "(2000, 20, 25, 25)"
      ]
     },
     "execution_count": 7,
     "metadata": {},
     "output_type": "execute_result"
    }
   ],
   "source": [
    "from jax import vmap\n",
    "from jax.numpy import outer\n",
    "# Take outer product for each sample and each tree\n",
    "vouter = vmap(vmap(outer))\n",
    "H_s = vouter(psi_est_all, psi_est_all)\n",
    "H_s.shape"
   ]
  },
  {
   "cell_type": "code",
   "execution_count": 8,
   "metadata": {},
   "outputs": [
    {
     "data": {
      "text/plain": [
       "(20, 25, 25)"
      ]
     },
     "execution_count": 8,
     "metadata": {},
     "output_type": "execute_result"
    }
   ],
   "source": [
    "# Average over all samples\n",
    "H_hat = jnp.mean(H_s, axis = 0)\n",
    "H_hat.shape"
   ]
  },
  {
   "cell_type": "code",
   "execution_count": 9,
   "metadata": {},
   "outputs": [
    {
     "data": {
      "text/plain": [
       "(25, 25)"
      ]
     },
     "execution_count": 9,
     "metadata": {},
     "output_type": "execute_result"
    }
   ],
   "source": [
    "# Average over all trees\n",
    "H_hat = jnp.mean(H_hat, axis = 0)\n",
    "H_hat.shape"
   ]
  },
  {
   "cell_type": "code",
   "execution_count": 10,
   "metadata": {},
   "outputs": [],
   "source": [
    "import matplotlib.pyplot as plt\n",
    "\n",
    "def plot_spectrum(y, y_diag, title):\n",
    "    x = np.linspace(0, dim_in-1, dim_in)\n",
    "\n",
    "    fig, ax = plt.subplots()\n",
    "\n",
    "    ax.plot(x, y, linewidth=2.0, label = \"eig\")\n",
    "    ax.plot(x, y_diag, linewidth=2.0, label = \"diagonal\")\n",
    "\n",
    "    plt.legend()\n",
    "    plt.title(title)\n",
    "    plt.show()"
   ]
  },
  {
   "cell_type": "code",
   "execution_count": 11,
   "metadata": {},
   "outputs": [
    {
     "name": "stderr",
     "output_type": "stream",
     "text": [
      "/Users/yangxinyuxie/miniforge3/envs/venv/lib/python3.10/site-packages/jax/_src/array.py:351: ComplexWarning: Casting complex values to real discards the imaginary part\n",
      "  return np.asarray(self._value, dtype=dtype)\n"
     ]
    },
    {
     "data": {
      "image/png": "[encoded data removed]",
      "text/plain": [
       "<Figure size 640x480 with 1 Axes>"
      ]
     },
     "metadata": {},
     "output_type": "display_data"
    }
   ],
   "source": [
    "y = jnp.linalg.eig(H_hat)[0]\n",
    "y_diag = jnp.diagonal(H_hat)\n",
    "y_diag = jnp.sort(y_diag)[::-1]\n",
    "plot_spectrum(y, y_diag, 'spectrum')"
   ]
  },
  {
   "cell_type": "code",
   "execution_count": 12,
   "metadata": {},
   "outputs": [
    {
     "data": {
      "text/plain": [
       "\"\\nlog_y = jnp.log(y)\\nlog_y_diag = jnp.log(y_diag)\\nplot_spectrum(log_y, log_y_diag, 'log spectrum')\\n\""
      ]
     },
     "execution_count": 12,
     "metadata": {},
     "output_type": "execute_result"
    }
   ],
   "source": [
    "'''\n",
    "log_y = jnp.log(y)\n",
    "log_y_diag = jnp.log(y_diag)\n",
    "plot_spectrum(log_y, log_y_diag, 'log spectrum')\n",
    "'''"
   ]
  },
  {
   "cell_type": "code",
   "execution_count": 13,
   "metadata": {},
   "outputs": [
    {
     "data": {
      "text/plain": [
       "(20, 25, 25)"
      ]
     },
     "execution_count": 13,
     "metadata": {},
     "output_type": "execute_result"
    }
   ],
   "source": [
    "H_hat = jnp.mean(H_s, axis = 0)\n",
    "H_hat.shape"
   ]
  },
  {
   "cell_type": "code",
   "execution_count": 14,
   "metadata": {},
   "outputs": [
    {
     "data": {
      "image/png": "[encoded data removed]",
      "text/plain": [
       "<Figure size 640x480 with 1 Axes>"
      ]
     },
     "metadata": {},
     "output_type": "display_data"
    }
   ],
   "source": [
    "veig = vmap(jnp.linalg.eig, out_axes=0)\n",
    "eigs = veig(H_hat)[0]\n",
    "eigs\n",
    "vdiag = vmap(jnp.diagonal)\n",
    "diags = vdiag(H_hat)\n",
    "y = jnp.mean(eigs, axis = 0)\n",
    "diags = vmap(jnp.sort)(diags)\n",
    "y_diag = jnp.mean(diags, axis = 0)[::-1]\n",
    "plot_spectrum(y, y_diag, 'avg spectrum')"
   ]
  },
  {
   "cell_type": "code",
   "execution_count": 15,
   "metadata": {},
   "outputs": [
    {
     "data": {
      "text/plain": [
       "\"\\nlog_y = jnp.log(y)\\nlog_y_diag = jnp.log(y_diag)\\nplot_spectrum(log_y, log_y_diag, 'log spectrum')\\n\""
      ]
     },
     "execution_count": 15,
     "metadata": {},
     "output_type": "execute_result"
    }
   ],
   "source": [
    "'''\n",
    "log_y = jnp.log(y)\n",
    "log_y_diag = jnp.log(y_diag)\n",
    "plot_spectrum(log_y, log_y_diag, 'log spectrum')\n",
    "'''"
   ]
  },
  {
   "cell_type": "code",
   "execution_count": 16,
   "metadata": {},
   "outputs": [
    {
     "data": {
      "text/plain": [
       "\"\\nfor H in H_hat:\\n    y = jnp.linalg.eig(H)[0]\\n    y_diag = jnp.diagonal(H)\\n    y_diag = jnp.sort(y_diag)[::-1]\\n    log_y = jnp.log(y)\\n    log_y_diag = jnp.log(y_diag)\\n    plot_spectrum(log_y, log_y_diag, 'log spectrum')\\n\""
      ]
     },
     "execution_count": 16,
     "metadata": {},
     "output_type": "execute_result"
    }
   ],
   "source": [
    "'''\n",
    "for H in H_hat:\n",
    "    y = jnp.linalg.eig(H)[0]\n",
    "    y_diag = jnp.diagonal(H)\n",
    "    y_diag = jnp.sort(y_diag)[::-1]\n",
    "    log_y = jnp.log(y)\n",
    "    log_y_diag = jnp.log(y_diag)\n",
    "    plot_spectrum(log_y, log_y_diag, 'log spectrum')\n",
    "'''"
   ]
  }
 ],
 "metadata": {
  "kernelspec": {
   "display_name": "venv",
   "language": "python",
   "name": "python3"
  },
  "language_info": {
   "codemirror_mode": {
    "name": "ipython",
    "version": 3
   },
   "file_extension": ".py",
   "mimetype": "text/x-python",
   "name": "python",
   "nbconvert_exporter": "python",
   "pygments_lexer": "ipython3",
   "version": "3.10.9"
  },
  "orig_nbformat": 4,
  "vscode": {
   "interpreter": {
    "hash": "d59b506a0e703b59755888ed29552127d9b4544333d10d3ff144388b8386bf11"
   }
  }
 },
 "nbformat": 4,
 "nbformat_minor": 2
}
