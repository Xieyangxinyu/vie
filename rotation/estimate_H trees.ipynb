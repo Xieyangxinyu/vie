{
 "cells": [
  {
   "cell_type": "code",
   "execution_count": 1,
   "metadata": {},
   "outputs": [],
   "source": [
    "import numpy as np\n",
    "import sys\n",
    "sys.path.append('../')\n",
    "from scipy.stats import special_ortho_group\n",
    "import jax.numpy as jnp\n",
    "from jax import grad, vmap\n",
    "from src.Mondrian_forest import *\n",
    "from sklearn.metrics import mean_squared_error\n",
    "from numpy.linalg import norm\n",
    "from tqdm import tqdm\n",
    "import matplotlib.pyplot as plt\n",
    "import pandas as pd\n",
    "\n",
    "dim_in = 5\n",
    "active = 3\n",
    "def simulate_y(x, rotation, seed = 0, noise_sig2 = 0.0001):\n",
    "    res = jnp.dot(x, rotation)\n",
    "    projected = jnp.concatenate([jnp.ones(active), jnp.zeros(dim_in - active)])\n",
    "    y = jnp.dot(res ** 4, projected)\n",
    "    r_noise = np.random.RandomState(seed)\n",
    "    #n = len(x)\n",
    "    noise = r_noise.randn(1)[0] * jnp.sqrt(noise_sig2)\n",
    "    y = y + noise\n",
    "    return y\n",
    "\n",
    "\n",
    "n = 5000\n",
    "rotation = special_ortho_group.rvs(dim_in)\n",
    "x_train = np.random.rand(n,dim_in)*2 - 1\n",
    "y_train = simulate_y(x_train, rotation)\n",
    "\n",
    "x_test = np.random.rand(1000,dim_in)*2 - 1\n",
    "y_test = simulate_y(x_test, rotation)\n",
    "\n",
    "sample_range = [500, 1000, 1500, 2000, 5000]"
   ]
  },
  {
   "cell_type": "code",
   "execution_count": 2,
   "metadata": {},
   "outputs": [],
   "source": [
    "M = 10                      # number of Mondrian trees to use\n",
    "delta = 0.1                   # ridge regression delta"
   ]
  },
  {
   "cell_type": "code",
   "execution_count": 3,
   "metadata": {},
   "outputs": [],
   "source": [
    "W_grad = vmap(grad(simulate_y, argnums=0), in_axes=(0, None), out_axes=0)(x_train, rotation)\n",
    "from numpy import linalg\n",
    "from src.Mondrian_matrix_utils import two_one_norm\n",
    "true_H = jnp.matmul(jnp.transpose(W_grad), W_grad) / n\n",
    "true_H = true_H / two_one_norm(true_H)"
   ]
  },
  {
   "cell_type": "code",
   "execution_count": 4,
   "metadata": {},
   "outputs": [
    {
     "data": {
      "image/png": "[encoded data removed]",
      "text/plain": [
       "<Figure size 640x480 with 1 Axes>"
      ]
     },
     "metadata": {},
     "output_type": "display_data"
    }
   ],
   "source": [
    "eigenvalues, eigenvectors = linalg.eig(true_H)\n",
    "from src.Mondrian_matrix_utils import draw\n",
    "draw(dim_in, eigenvalues)"
   ]
  },
  {
   "cell_type": "code",
   "execution_count": 5,
   "metadata": {},
   "outputs": [],
   "source": [
    "def get_angle_distance(H, truth):\n",
    "    dim_proj = active\n",
    "    proj = np.identity(dim_proj)\n",
    "    proj = np.pad(proj, [(0, dim_in - dim_proj), (0, dim_in - dim_proj)], mode='constant')\n",
    "    \n",
    "    _, eigenvectors = linalg.eig(H)\n",
    "    Q_H, _ = linalg.qr(eigenvectors[:, :active])\n",
    "    \n",
    "    Q_t, _ = linalg.qr(truth[:, :active])\n",
    "\n",
    "    D = np.matmul(np.transpose(Q_H), Q_t)\n",
    "    U, S, Vh = np.linalg.svd(D, full_matrices=True)\n",
    "    return np.arccos(S)"
   ]
  },
  {
   "cell_type": "code",
   "execution_count": 6,
   "metadata": {},
   "outputs": [],
   "source": [
    "def plot_trend(stats, xlabel, ylabel, title):\n",
    "    df = pd.DataFrame(stats)\n",
    "\n",
    "    # Prepare the data for plotting\n",
    "    plot_data = [df[ylabel][i] for i in range(len(df))]\n",
    "\n",
    "    # Create the boxplot\n",
    "    plt.boxplot(plot_data, labels=[str(x[xlabel]) for x in stats])\n",
    "\n",
    "    # Add titles and labels\n",
    "    plt.title(title)\n",
    "    plt.xlabel(xlabel)\n",
    "    plt.ylabel(ylabel)\n",
    "\n",
    "    # Show the plot\n",
    "    plt.show()"
   ]
  },
  {
   "cell_type": "code",
   "execution_count": 8,
   "metadata": {},
   "outputs": [
    {
     "name": "stderr",
     "output_type": "stream",
     "text": [
      " 20%|██        | 1/5 [02:02<08:10, 122.69s/it]"
     ]
    },
    {
     "name": "stdout",
     "output_type": "stream",
     "text": [
      "min mse: 0.5418772\n",
      "time: 1.240508306347228\n"
     ]
    },
    {
     "name": "stderr",
     "output_type": "stream",
     "text": [
      " 40%|████      | 2/5 [07:41<12:28, 249.64s/it]"
     ]
    },
    {
     "name": "stdout",
     "output_type": "stream",
     "text": [
      "min mse: 0.45502385\n",
      "time: 1.5743843576712722\n"
     ]
    },
    {
     "name": "stderr",
     "output_type": "stream",
     "text": [
      " 60%|██████    | 3/5 [25:49<21:05, 632.82s/it]"
     ]
    },
    {
     "name": "stdout",
     "output_type": "stream",
     "text": [
      "min mse: 0.44408673\n",
      "time: 1.982728023830974\n"
     ]
    },
    {
     "name": "stderr",
     "output_type": "stream",
     "text": [
      " 80%|████████  | 4/5 [49:25<15:41, 941.66s/it]"
     ]
    },
    {
     "name": "stdout",
     "output_type": "stream",
     "text": [
      "min mse: 0.43273202\n",
      "time: 1.8926533931399363\n"
     ]
    }
   ],
   "source": [
    "lifetime_max = 5\n",
    "for n_sim in tqdm(sample_range):\n",
    "    results = evaluate_all_lifetimes(x_train[:n_sim, ], y_train[:n_sim], x_test, y_test, M, lifetime_max, delta)\n",
    "    print(\"min mse: \" + str(min(results['mse'])))\n",
    "    print(\"time: \" + str(results['times'][np.where(results['mse'] == min(results['mse']))[0][0]]))\n",
    "    plt.plot(results['times'], results['mse'], label = 'n = ' + str(n_sim))\n",
    "    plt.legend()"
   ]
  },
  {
   "cell_type": "code",
   "execution_count": null,
   "metadata": {},
   "outputs": [
    {
     "data": {
      "text/plain": [
       "2.072388371556997"
      ]
     },
     "execution_count": 28,
     "metadata": {},
     "output_type": "execute_result"
    }
   ],
   "source": [
    "results['times'][np.where(results['mse'] == min(results['mse']))[0][0]] * (0.25 ** (1/5))"
   ]
  },
  {
   "cell_type": "markdown",
   "metadata": {},
   "source": [
    "# With increasing lifetime"
   ]
  },
  {
   "cell_type": "code",
   "execution_count": 27,
   "metadata": {},
   "outputs": [
    {
     "name": "stderr",
     "output_type": "stream",
     "text": [
      "100%|██████████| 5/5 [00:14<00:00,  2.92s/it]\n",
      "100%|██████████| 5/5 [00:28<00:00,  5.63s/it]\n",
      "100%|██████████| 5/5 [00:40<00:00,  8.20s/it]\n",
      "100%|██████████| 5/5 [01:06<00:00, 13.33s/it]\n"
     ]
    },
    {
     "data": {
      "image/png": "[encoded data removed]",
      "text/plain": [
       "<Figure size 640x480 with 1 Axes>"
      ]
     },
     "metadata": {},
     "output_type": "display_data"
    }
   ],
   "source": [
    "lifetime_max = 2\n",
    "\n",
    "stats = []\n",
    "for n_sim in sample_range:\n",
    "    dist = {'n': n_sim, 'dist': [], 'H': []}\n",
    "    for trial in tqdm(range(5)):\n",
    "        lifetime = lifetime_max * ((n_sim / sample_range[0]) ** (1/5))\n",
    "        mse, X_bd_all, X, history, w_trees, y_hat_train = \\\n",
    "            train_and_evaluate(x_train[:n_sim, ], y_train[:n_sim], x_test, y_test, M, lifetime, delta)\n",
    "        H_0 = estimate_H(x_train[:n_sim, ], y_train[:n_sim], X_bd_all, M, X, history, w_trees, y_hat_train)\n",
    "        H_0 = H_0 / two_one_norm(H_0)\n",
    "        dist['dist'].append((norm(H_0 - true_H, ord = 'fro')))\n",
    "        dist['H'].append(H_0)\n",
    "    stats.append(dist)\n",
    "\n",
    "df = pd.DataFrame(stats)\n",
    "\n",
    "# Prepare the data for plotting\n",
    "plot_data = [df['dist'][i] for i in range(len(df))]\n",
    "\n",
    "# Create the boxplot\n",
    "plt.boxplot(plot_data, labels=[str(x['n']) for x in stats])\n",
    "\n",
    "# Add titles and labels\n",
    "plt.title('Boxplot of dist by n')\n",
    "plt.xlabel('sample size')\n",
    "plt.ylabel('Frobinus distance from the True H')\n",
    "\n",
    "# Show the plot\n",
    "plt.show()"
   ]
  }
 ],
 "metadata": {
  "kernelspec": {
   "display_name": "venv",
   "language": "python",
   "name": "python3"
  },
  "language_info": {
   "codemirror_mode": {
    "name": "ipython",
    "version": 3
   },
   "file_extension": ".py",
   "mimetype": "text/x-python",
   "name": "python",
   "nbconvert_exporter": "python",
   "pygments_lexer": "ipython3",
   "version": "3.10.9"
  },
  "orig_nbformat": 4
 },
 "nbformat": 4,
 "nbformat_minor": 2
}
