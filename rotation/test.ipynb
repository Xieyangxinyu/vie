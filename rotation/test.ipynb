{
 "cells": [
  {
   "cell_type": "code",
   "execution_count": 1,
   "metadata": {},
   "outputs": [],
   "source": [
    "import numpy as np\n",
    "import sys\n",
    "sys.path.append('../')\n",
    "from scipy.stats import special_ortho_group\n",
    "import jax.numpy as jnp\n",
    "from jax import grad, vmap\n",
    "from forests.Mondrian_forest import *\n",
    "from sklearn.metrics import mean_squared_error\n",
    "from numpy.linalg import norm\n",
    "from tqdm import tqdm\n",
    "import matplotlib.pyplot as plt\n",
    "import pandas as pd\n",
    "\n",
    "dim_in = 5\n",
    "active = 3\n",
    "def simulate_y(x, rotation, seed = 0, noise_sig2 = 0.0001):\n",
    "    res = jnp.dot(x, rotation)\n",
    "    projected = jnp.concatenate([jnp.ones(active), jnp.zeros(dim_in - active)])\n",
    "    y = jnp.dot(res ** 4, projected)\n",
    "    r_noise = np.random.RandomState(seed)\n",
    "    #n = len(x)\n",
    "    noise = r_noise.randn(1)[0] * jnp.sqrt(noise_sig2)\n",
    "    y = y + noise\n",
    "    return y\n",
    "\n",
    "\n",
    "n = 2000\n",
    "rotation = special_ortho_group.rvs(dim_in)\n",
    "x_train = np.random.rand(n,dim_in)*2 - 1\n",
    "y_train = simulate_y(x_train, rotation)\n",
    "\n",
    "x_test = np.random.rand(1000,dim_in)*2 - 1\n",
    "y_test = simulate_y(x_test, rotation)\n",
    "\n",
    "sample_range = [2000]"
   ]
  },
  {
   "cell_type": "code",
   "execution_count": 2,
   "metadata": {},
   "outputs": [],
   "source": [
    "lifetime_max = 1.4\n",
    "M = 10\n",
    "delta = 0.1"
   ]
  },
  {
   "cell_type": "code",
   "execution_count": null,
   "metadata": {},
   "outputs": [],
   "source": []
  },
  {
   "cell_type": "code",
   "execution_count": 3,
   "metadata": {},
   "outputs": [],
   "source": [
    "results = evaluate_all_lifetimes(x_train, y_train, x_test, y_test, M, lifetime_max, delta)\n"
   ]
  },
  {
   "cell_type": "code",
   "execution_count": 4,
   "metadata": {},
   "outputs": [
    {
     "data": {
      "text/plain": [
       "0.32768825"
      ]
     },
     "execution_count": 4,
     "metadata": {},
     "output_type": "execute_result"
    }
   ],
   "source": [
    "results['mse']"
   ]
  },
  {
   "cell_type": "code",
   "execution_count": 5,
   "metadata": {},
   "outputs": [
    {
     "data": {
      "text/plain": [
       "0.32106885"
      ]
     },
     "execution_count": 5,
     "metadata": {},
     "output_type": "execute_result"
    }
   ],
   "source": [
    "mse, X_bd_all, X, history, y_hat_train = \\\n",
    "            train_and_evaluate(x_train, y_train, x_test, y_test, M, lifetime_max, delta)\n",
    "mse"
   ]
  }
 ],
 "metadata": {
  "kernelspec": {
   "display_name": "venv",
   "language": "python",
   "name": "python3"
  },
  "language_info": {
   "codemirror_mode": {
    "name": "ipython",
    "version": 3
   },
   "file_extension": ".py",
   "mimetype": "text/x-python",
   "name": "python",
   "nbconvert_exporter": "python",
   "pygments_lexer": "ipython3",
   "version": "3.10.9"
  },
  "orig_nbformat": 4
 },
 "nbformat": 4,
 "nbformat_minor": 2
}
