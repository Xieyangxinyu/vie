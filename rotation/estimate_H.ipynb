{
 "cells": [
  {
   "cell_type": "code",
   "execution_count": 1,
   "metadata": {},
   "outputs": [],
   "source": [
    "import numpy as np\n",
    "import sys\n",
    "sys.path.append('../')\n",
    "from scipy.stats import special_ortho_group\n",
    "import jax.numpy as jnp\n",
    "from jax import grad, vmap\n",
    "from src.Mondrian_forest import *\n",
    "from sklearn.metrics import mean_squared_error\n",
    "\n",
    "dim_in = 5\n",
    "active = 3\n",
    "def simulate_y(x, rotation, seed = 0, noise_sig2 = 0.0001):\n",
    "    res = jnp.dot(x, rotation)\n",
    "    projected = jnp.concatenate([jnp.ones(active), jnp.zeros(dim_in - active)])\n",
    "    y = jnp.dot(res ** 4, projected)\n",
    "    r_noise = np.random.RandomState(seed)\n",
    "    #n = len(x)\n",
    "    noise = r_noise.randn(1)[0] * jnp.sqrt(noise_sig2)\n",
    "    y = y + noise\n",
    "    return y\n",
    "\n",
    "\n",
    "n = 5000\n",
    "rotation = special_ortho_group.rvs(dim_in)\n",
    "x_train = np.random.rand(n,dim_in)*2 - 1\n",
    "y_train = simulate_y(x_train, rotation)\n",
    "\n",
    "x_test = np.random.rand(1000,dim_in)*2 - 1\n",
    "y_test = simulate_y(x_test, rotation)\n",
    "\n",
    "sample_range = [100,500,2000,5000]"
   ]
  },
  {
   "cell_type": "code",
   "execution_count": 2,
   "metadata": {},
   "outputs": [],
   "source": [
    "M = 10                      # number of Mondrian trees to use\n",
    "lifetime_max = 4          # terminal lifetime\n",
    "delta = 0.1              # ridge regression delta"
   ]
  },
  {
   "cell_type": "code",
   "execution_count": 3,
   "metadata": {},
   "outputs": [],
   "source": [
    "W_grad = vmap(grad(simulate_y, argnums=0), in_axes=(0, None), out_axes=0)(x_train, rotation)\n",
    "from numpy import linalg\n",
    "from src.Mondrian_matrix_utils import two_one_norm\n",
    "true_H = jnp.matmul(jnp.transpose(W_grad), W_grad) / n\n",
    "true_H = true_H / two_one_norm(true_H)"
   ]
  },
  {
   "cell_type": "code",
   "execution_count": 4,
   "metadata": {},
   "outputs": [
    {
     "data": {
      "image/png": "[encoded data removed]",
      "text/plain": [
       "<Figure size 640x480 with 1 Axes>"
      ]
     },
     "metadata": {},
     "output_type": "display_data"
    }
   ],
   "source": [
    "eigenvalues, eigenvectors = linalg.eig(true_H)\n",
    "from src.Mondrian_matrix_utils import draw\n",
    "draw(dim_in, eigenvalues)"
   ]
  },
  {
   "cell_type": "code",
   "execution_count": 5,
   "metadata": {},
   "outputs": [],
   "source": [
    "def get_angle_distance(H, truth):\n",
    "    dim_proj = active\n",
    "    proj = np.identity(dim_proj)\n",
    "    proj = np.pad(proj, [(0, dim_in - dim_proj), (0, dim_in - dim_proj)], mode='constant')\n",
    "    \n",
    "    _, eigenvectors = linalg.eig(H)\n",
    "    Q_H, _ = linalg.qr(eigenvectors[:, :active])\n",
    "    \n",
    "    Q_t, _ = linalg.qr(truth[:, :active])\n",
    "\n",
    "    D = np.matmul(np.transpose(Q_H), Q_t)\n",
    "    U, S, Vh = np.linalg.svd(D, full_matrices=True)\n",
    "    return np.arccos(S)"
   ]
  },
  {
   "cell_type": "code",
   "execution_count": 6,
   "metadata": {},
   "outputs": [
    {
     "name": "stdout",
     "output_type": "stream",
     "text": [
      "n_sim: 100, lifetime: 1\n",
      "0.8392059\n",
      "n_sim: 100, lifetime: 1\n",
      "0.84904826\n",
      "n_sim: 100, lifetime: 2\n",
      "0.80263615\n",
      "n_sim: 100, lifetime: 2\n",
      "0.8073573\n",
      "n_sim: 100, lifetime: 3\n",
      "0.8057456\n",
      "n_sim: 100, lifetime: 3\n",
      "0.8128209\n",
      "n_sim: 100, lifetime: 4\n",
      "0.78486514\n",
      "n_sim: 100, lifetime: 4\n",
      "0.797461\n",
      "n_sim: 100, lifetime: 5\n",
      "0.77753407\n",
      "n_sim: 100, lifetime: 5\n",
      "0.769072\n",
      "n_sim: 100, lifetime: 6\n",
      "0.8072859\n",
      "n_sim: 100, lifetime: 6\n",
      "0.8025378\n",
      "n_sim: 100, lifetime: 7\n",
      "0.7950394\n",
      "n_sim: 100, lifetime: 7\n",
      "0.8000059\n",
      "n_sim: 100, lifetime: 8\n",
      "0.80314195\n",
      "n_sim: 100, lifetime: 8\n",
      "0.8224019\n",
      "n_sim: 100, lifetime: 9\n",
      "0.77386427\n",
      "n_sim: 100, lifetime: 9\n",
      "0.79758567\n",
      "n_sim: 100, lifetime: 10\n",
      "0.7696611\n",
      "n_sim: 100, lifetime: 10\n",
      "0.79340494\n"
     ]
    }
   ],
   "source": [
    "for n_sim in [sample_range[0]]:\n",
    "    for lifetime in [1,2,3,4,5,6,7,8,9,10]:\n",
    "        for round in range(2):\n",
    "            print(f\"n_sim: {n_sim}, lifetime: {lifetime}\")\n",
    "            mse_best = simulate_proj_H(x_train[:n_sim, ], y_train[:n_sim], x_test, y_test, M, lifetime, delta, H = true_H)\n",
    "            print(mse_best)"
   ]
  },
  {
   "cell_type": "code",
   "execution_count": 7,
   "metadata": {},
   "outputs": [],
   "source": [
    "from numpy.linalg import norm\n",
    "from tqdm import tqdm"
   ]
  },
  {
   "cell_type": "code",
   "execution_count": 8,
   "metadata": {},
   "outputs": [
    {
     "name": "stderr",
     "output_type": "stream",
     "text": [
      "  0%|          | 0/5 [00:00<?, ?it/s]"
     ]
    },
    {
     "name": "stderr",
     "output_type": "stream",
     "text": [
      "100%|██████████| 5/5 [00:08<00:00,  1.68s/it]\n",
      "100%|██████████| 5/5 [00:33<00:00,  6.75s/it]\n",
      "100%|██████████| 5/5 [00:46<00:00,  9.35s/it]\n",
      "100%|██████████| 5/5 [00:32<00:00,  6.51s/it]\n"
     ]
    }
   ],
   "source": [
    "lifetime_max = 5\n",
    "\n",
    "stats = []\n",
    "for n_sim in sample_range:\n",
    "    dist = {'n': n_sim, 'dist': []}\n",
    "    for trial in tqdm(range(5)):\n",
    "        lifetime = lifetime_max * ((n_sim / sample_range[0]) ** (-2/5))\n",
    "        mse, X_bd_all, X, history, w_trees, y_hat_train = \\\n",
    "            train_and_evaluate(x_train[:n_sim, ], y_train[:n_sim], x_test, y_test, M, lifetime, delta)\n",
    "        H_0 = estimate_H(x_train[:n_sim, ], y_train[:n_sim], X_bd_all, M, X, history, w_trees, y_hat_train)\n",
    "        H_0 = H_0 / two_one_norm(H_0)\n",
    "        dist['dist'].append((norm(H_0 - true_H, ord = 'fro')))\n",
    "    stats.append(dist)"
   ]
  },
  {
   "cell_type": "code",
   "execution_count": 9,
   "metadata": {},
   "outputs": [
    {
     "data": {
      "image/png": "[encoded data removed]",
      "text/plain": [
       "<Figure size 640x480 with 1 Axes>"
      ]
     },
     "metadata": {},
     "output_type": "display_data"
    }
   ],
   "source": [
    "import matplotlib.pyplot as plt\n",
    "import pandas as pd\n",
    "df = pd.DataFrame(stats)\n",
    "\n",
    "# Prepare the data for plotting\n",
    "plot_data = [df['dist'][i] for i in range(len(df))]\n",
    "\n",
    "# Create the boxplot\n",
    "plt.boxplot(plot_data, labels=[str(x['n']) for x in stats])\n",
    "\n",
    "# Add titles and labels\n",
    "plt.title('Boxplot of dist by n')\n",
    "plt.xlabel('sample size')\n",
    "plt.ylabel('Frobinus distance from the True H')\n",
    "\n",
    "# Show the plot\n",
    "plt.show()"
   ]
  }
 ],
 "metadata": {
  "kernelspec": {
   "display_name": "venv",
   "language": "python",
   "name": "python3"
  },
  "language_info": {
   "codemirror_mode": {
    "name": "ipython",
    "version": 3
   },
   "file_extension": ".py",
   "mimetype": "text/x-python",
   "name": "python",
   "nbconvert_exporter": "python",
   "pygments_lexer": "ipython3",
   "version": "3.10.9"
  },
  "orig_nbformat": 4
 },
 "nbformat": 4,
 "nbformat_minor": 2
}
