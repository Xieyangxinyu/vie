{
 "cells": [
  {
   "cell_type": "code",
   "execution_count": 46,
   "metadata": {},
   "outputs": [],
   "source": [
    "import heapq\n",
    "import numpy as np\n",
    "import scipy.sparse\n",
    "from sklearn import linear_model\n",
    "import sys, os\n",
    "import jax.numpy as jnp\n",
    "import jax\n",
    "\n",
    "from utils_mondrian import sample_cut\n",
    "\n",
    "stable_sigmoid = lambda x: jnp.exp(jax.nn.log_sigmoid(x))\n",
    "\n",
    "def evaluate_all_lifetimes(X, y, X_test, y_test, M, lifetime_max, delta,\n",
    "                           validation=False):\n",
    "    \"\"\"\n",
    "    Sweeps through Mondrian kernels with all lifetime in [0, lifetime_max]. This can be used to (1) construct a Mondrian\n",
    "    feature map with lifetime lifetime_max, to (2) find a suitable lifetime (inverse kernel width), or to (3) compare\n",
    "    Mondrian kernel to Mondrian forest across lifetimes.\n",
    "    :param X:                       training inputs\n",
    "    :param y:                       training regression targets\n",
    "    :param X_test:                  test inputs\n",
    "    :param y_test:                  test regression targets\n",
    "    :param M:                       number of Mondrian trees\n",
    "    :param lifetime_max:            terminal lifetime\n",
    "    :param delta:                   ridge regression regularization hyperparameter\n",
    "    :param validation:              flag indicating whether a validation set should be created by halving the test set\n",
    "    :return: dictionary res containing all results\n",
    "    \"\"\"\n",
    "\n",
    "    N, D = np.shape(X)\n",
    "    N_test = np.shape(X_test)[0]\n",
    "    X_all = np.array(np.r_[X, X_test])\n",
    "    N_all = N + N_test\n",
    "    \n",
    "    y_train = np.squeeze(y)\n",
    "    y_test = np.squeeze(y_test)\n",
    "\n",
    "    # initialize sparse feature matrix\n",
    "    indptr = range(0, M * N_all + 1, M)\n",
    "    indices = list(range(M)) * N_all\n",
    "    data = np.ones(N_all * M)\n",
    "    Z_all = scipy.sparse.csr_matrix((data, indices, indptr), shape=(N_all, M))\n",
    "    feature_from_repetition = list(range(M))\n",
    "    C = M\n",
    "\n",
    "    # bounding box for all datapoints used to sample first cut in each tree\n",
    "    feature_data = [np.array(range(N_all)) for _ in range(M)]\n",
    "    lX = np.min(X_all, 0)\n",
    "    uX = np.max(X_all, 0)\n",
    "\n",
    "    # event = tuple (time, tree, feature, dim, loc), where feature is the index of feature being split\n",
    "    events = []\n",
    "    active_features = []\n",
    "    cuts = []\n",
    "    feature_indices = []\n",
    "    active_features_in_tree = [[] for _ in range(M)]\n",
    "    for m in range(M):\n",
    "        cut_time, dim, loc = sample_cut(lX, uX, 0.0)\n",
    "        if cut_time < lifetime_max:\n",
    "            heapq.heappush(events, (cut_time, m, m, dim, loc))\n",
    "        active_features.append(m)\n",
    "        active_features_in_tree[m].append(m)\n",
    "\n",
    "    # iterate through birth times in increasing order\n",
    "    list_times = []\n",
    "    w_kernel = np.zeros(M)\n",
    "\n",
    "    parent = {}\n",
    "\n",
    "    while len(events) > 0:\n",
    "        (birth_time, m, c, dim, loc) = heapq.heappop(events)\n",
    "        list_times.append(birth_time)\n",
    "        \n",
    "        # construct new feature\n",
    "        Xd = X_all[feature_data[c], dim]\n",
    "        feature_l = (feature_data[c])[Xd <= loc]\n",
    "        feature_r = (feature_data[c])[Xd  > loc]\n",
    "        feature_data.append(feature_l)\n",
    "        feature_data.append(feature_r)\n",
    "\n",
    "        active_features.remove(c)\n",
    "        active_features_in_tree[m].remove(c)\n",
    "        active_features.append(C + 0)\n",
    "        active_features.append(C + 1)\n",
    "        active_features_in_tree[m].append(C + 0)\n",
    "        active_features_in_tree[m].append(C + 1)\n",
    "        feature_indices.append(dim)\n",
    "        #feature_indices.append(dim)\n",
    "        cuts.append([loc, 0])\n",
    "        parent[C + 0] = c\n",
    "        parent[C + 1] = c\n",
    "        #cuts.append([loc, 1])\n",
    "\n",
    "        # move datapoints from split feature to child features\n",
    "        Z_all.indices[feature_l * M + m] = C + 0\n",
    "        Z_all.indices[feature_r * M + m] = C + 1\n",
    "        Z_all = scipy.sparse.csr_matrix((Z_all.data, Z_all.indices, Z_all.indptr), shape=(N_all, C + 2), copy=False)\n",
    "\n",
    "        # sample the cut for each child\n",
    "        lX_l = np.min(X_all[feature_l, :], axis=0)\n",
    "        uX_l = np.max(X_all[feature_l, :], axis=0)\n",
    "        cut_time_l, dim_l, loc_l = sample_cut(lX_l, uX_l, birth_time)\n",
    "        lX_r = np.min(X_all[feature_r, :], axis=0)\n",
    "        uX_r = np.max(X_all[feature_r, :], axis=0)\n",
    "        cut_time_r, dim_r, loc_r = sample_cut(lX_r, uX_r, birth_time)\n",
    "\n",
    "        # add new cuts to heap\n",
    "        if cut_time_l < lifetime_max:\n",
    "            heapq.heappush(events, (cut_time_l, m, C + 0, dim_l, loc_l))\n",
    "        if cut_time_r < lifetime_max:\n",
    "            heapq.heappush(events, (cut_time_r, m, C + 1, dim_r, loc_r))\n",
    "\n",
    "        feature_from_repetition.append(m)\n",
    "        feature_from_repetition.append(m)\n",
    "        C += 2\n",
    "\n",
    "        # update Mondrian kernel predictions\n",
    "        w_kernel = np.append(w_kernel, [w_kernel[c], w_kernel[c]])\n",
    "        w_kernel[c] = 0\n",
    "        Z_train = Z_all[:N]\n",
    "        Z_test = Z_all[N:]\n",
    "\n",
    "        clf = linear_model.SGDRegressor(alpha=delta, fit_intercept=False)\n",
    "        clf.fit(Z_train, y_train, coef_init=w_kernel)\n",
    "        w_kernel = clf.coef_\n",
    "\n",
    "        y_hat_test = Z_test.dot(w_kernel)\n",
    "        error_test = np.mean((y_test - y_hat_test) ** 2)\n",
    "\n",
    "\n",
    "        sys.stdout.write(\"\\rTime: %.2E / %.2E (C = %d, test error = %.3f)\" % (birth_time, lifetime_max, C, error_test))\n",
    "        sys.stdout.flush()\n",
    "    \n",
    "    sys.stdout.write(\"\\n\")\n",
    "\n",
    "    cuts = np.array(cuts)\n",
    "    \n",
    "    path_map = np.zeros(shape=(C, M))\n",
    "    for i in range(M, C):\n",
    "        v = np.copy(path_map[:, parent[i]])\n",
    "        v[i] = 1\n",
    "        v = v[...,None]\n",
    "        path_map = np.hstack((path_map, v))\n",
    "    path_map = path_map[M:, M:]\n",
    "\n",
    "    \n",
    "    threshold = cuts[:, 0]\n",
    "\n",
    "    feature_indices = np.array(feature_indices)\n",
    "    \n",
    "    \n",
    "    def get_feature(X_all, Z_all, feature_indices, threshold):\n",
    "        hidden_features = X_all[:, feature_indices]\n",
    "        c = 1000.0\n",
    "        right_indicator = stable_sigmoid(c * (hidden_features - threshold))\n",
    "        left_indicator = 1.0 - right_indicator\n",
    "        soft_indicator = jnp.ravel(jnp.array([left_indicator.flatten(),right_indicator.flatten()]),order=\"F\").reshape(\n",
    "            (len(X_all), len(feature_indices)*2)\n",
    "        )\n",
    "        F_leaf = jnp.multiply(soft_indicator, Z_all)\n",
    "        F_leaf = jnp.matmul(F_leaf, path_map)\n",
    "        return F_leaf\n",
    "\n",
    "    F_leaf = get_feature(X, Z_train[:, M:].todense(), feature_indices, threshold)\n",
    "    clf = linear_model.SGDRegressor(alpha=delta, fit_intercept=False)\n",
    "    clf.fit(F_leaf, y_train, coef_init=w_kernel[M:])\n",
    "    w_kernel = clf.coef_\n",
    "    \n",
    "    \n",
    "    def predict(x, Z_all, feature_indices, threshold, beta):\n",
    "        hidden_features = x[feature_indices]\n",
    "        c = 1000.0\n",
    "        right_indicator = stable_sigmoid(c * (hidden_features - threshold))\n",
    "        left_indicator = 1.0 - right_indicator\n",
    "        soft_indicator = jnp.ravel(jnp.array([left_indicator,right_indicator]),order=\"F\")\n",
    "        F_leaf = jnp.multiply(soft_indicator, Z_all)\n",
    "        F_leaf = jnp.matmul(F_leaf, path_map)\n",
    "        return jnp.dot(F_leaf, beta)\n",
    "    \n",
    "    \n",
    "    fs = jax.jit(jax.vmap(predict, in_axes=(0, 0, None, None, None), out_axes=0))\n",
    "    grad_fs = jax.jit(jax.vmap(jax.grad(predict, argnums=0), in_axes=(0, 0, None, None, None), out_axes=0))\n",
    "    \n",
    "    y_hat = fs(X_all, Z_all[:, M:].todense(), feature_indices, threshold, w_kernel)\n",
    "    y_hat_test = y_hat[N:]\n",
    "    error_test = np.mean((y_test - y_hat_test) ** 2)\n",
    "    print(error_test)\n",
    "\n",
    "    grads = np.array(grad_fs(X_all[N:], Z_all[N:, M:].todense(), feature_indices, threshold, w_kernel))\n",
    "    # this function returns a dictionary with all values of interest stored in it\n",
    "    return grads, y_hat_test"
   ]
  },
  {
   "cell_type": "code",
   "execution_count": 2,
   "metadata": {},
   "outputs": [],
   "source": [
    "def simulate_y(x):\n",
    "    y = x[:, 0]**3 + x[:, 1]**3 + x[:, 2]**3 + x[:, 3]**3 + x[:, 4]**3\n",
    "    return y"
   ]
  },
  {
   "cell_type": "code",
   "execution_count": 72,
   "metadata": {},
   "outputs": [
    {
     "name": "stdout",
     "output_type": "stream",
     "text": [
      "Time: 5.00E-02 / 5.00E-02 (C = 276, test error = 0.460)\n",
      "0.45933798\n",
      "[1.56436716e+00 1.76902592e+00 2.28470236e+01 1.58812765e+00\n",
      " 1.63314822e+00 3.57914401e-53 2.55393410e-27 3.30031200e-13\n",
      " 1.34227834e-36 0.00000000e+00 0.00000000e+00 2.32505290e-19\n",
      " 2.50869552e-03 6.69546816e+00 0.00000000e+00 1.51566892e-10\n",
      " 3.28122425e-10 5.13456652e-04 3.09373770e-09 1.10539837e-03\n",
      " 1.59869657e+01 6.43947486e-09 0.00000000e+00 1.75173897e-04\n",
      " 1.78727899e-19]\n"
     ]
    },
    {
     "data": {
      "image/png": "[encoded data removed]",
      "text/plain": [
       "<Figure size 640x480 with 1 Axes>"
      ]
     },
     "metadata": {},
     "output_type": "display_data"
    }
   ],
   "source": [
    "import matplotlib.pyplot as plt\n",
    "def draw(dim_in, psi_est):\n",
    "    x = np.linspace(0, dim_in-1, dim_in)\n",
    "\n",
    "    fig, ax = plt.subplots()\n",
    "\n",
    "    ax.plot(x, psi_est, linewidth=2.0, label = \"diag\")\n",
    "\n",
    "    plt.legend()\n",
    "    plt.show()\n",
    "\n",
    "dim_in = 25\n",
    "x = np.random.rand(100,dim_in)*2 - 1\n",
    "x_test = np.random.rand(100,dim_in)*2 - 1\n",
    "y = simulate_y(x)\n",
    "y_test = simulate_y(x_test)\n",
    "M = 20                      # number of Mondrian trees to use\n",
    "lifetime_max = 0.05          # terminal lifetime\n",
    "delta = 0.1\n",
    "\n",
    "grads, y_hat_test = evaluate_all_lifetimes(x, y, x_test, y_test, M, lifetime_max, delta)\n",
    "\n",
    "grads_true = 3*(x_test**2)\n",
    "grads_true[:, 5:] = 0\n",
    "\n",
    "print(np.mean((grads_true - grads)**2, axis = 0))\n",
    "\n",
    "draw(dim_in, np.mean(grads**2, axis = 0))"
   ]
  },
  {
   "cell_type": "code",
   "execution_count": 68,
   "metadata": {},
   "outputs": [
    {
     "data": {
      "text/plain": [
       "Array(0.5176729, dtype=float32)"
      ]
     },
     "execution_count": 68,
     "metadata": {},
     "output_type": "execute_result"
    }
   ],
   "source": [
    "np.mean((y_test - y_hat_test) ** 2)"
   ]
  },
  {
   "cell_type": "code",
   "execution_count": 69,
   "metadata": {},
   "outputs": [
    {
     "name": "stdout",
     "output_type": "stream",
     "text": [
      "Shapes: psi_est_all: (1000, 1, 20, 25), grad_train: (20, 25), psi_est: (25,)\n",
      "[7.39113431e+00 6.96461233e+00 8.54320599e+00 7.71469888e+00\n",
      " 5.93191038e+00 1.08545058e-05 7.26280787e-06 1.54607533e-06\n",
      " 5.95959379e-06 5.55437021e-06 1.16603483e-05 6.78999258e-06\n",
      " 1.13080469e-04 8.36173958e-06 2.15121127e-05 1.00295396e-05\n",
      " 1.08679583e-06 9.52896619e-08 7.05797710e-07 5.38280423e-05\n",
      " 3.59143910e-06 5.65009575e-06 9.58361710e-06 3.87711459e-07\n",
      " 4.03928356e-06]\n"
     ]
    },
    {
     "data": {
      "image/png": "[encoded data removed]",
      "text/plain": [
       "<Figure size 640x480 with 1 Axes>"
      ]
     },
     "metadata": {},
     "output_type": "display_data"
    }
   ],
   "source": [
    "from vie import get_fdt_model\n",
    "fdt_out = get_fdt_model(x, y, c=0.1, sig2=0.01, n_tree=20, \n",
    "                            compute_psi=True, batch_size=1, n_samp=10, seed=0)\n",
    "\n",
    "grad_fs = fdt_out[2]\n",
    "betas = fdt_out[3][\"betas\"]\n",
    "f = fdt_out[1]\n",
    "map_matrix = fdt_out[3][\"map_matrix\"]\n",
    "feature = fdt_out[3][\"feature\"]\n",
    "threshold = fdt_out[3][\"threshold\"]\n",
    "beta = fdt_out[3][\"beta\"]\n",
    "psi_est = np.array(grad_fs(x_test, map_matrix, feature, threshold, betas))\n",
    "grad_train = np.mean(psi_est**2, axis=(0,1))\n",
    "psi_test = np.median(grad_train, axis=0)\n",
    "\n",
    "grads_est = np.mean(psi_est, axis = (0,2)) - grads_true\n",
    "\n",
    "print(np.mean((grads_true - grads_est)**2, axis = 0))\n",
    "\n",
    "draw(dim_in, psi_test)\n"
   ]
  },
  {
   "cell_type": "code",
   "execution_count": 70,
   "metadata": {},
   "outputs": [
    {
     "data": {
      "text/plain": [
       "1.4530122392727836"
      ]
     },
     "execution_count": 70,
     "metadata": {},
     "output_type": "execute_result"
    }
   ],
   "source": [
    "f = fdt_out[1]\n",
    "map_matrix = fdt_out[3][\"map_matrix\"]\n",
    "feature = fdt_out[3][\"feature\"]\n",
    "threshold = fdt_out[3][\"threshold\"]\n",
    "beta = fdt_out[3][\"beta\"]\n",
    "pred_test = np.array(f(x_test, map_matrix, feature, threshold, beta))\n",
    "np.mean((y_test - np.mean(pred_test, 1)) ** 2)"
   ]
  },
  {
   "cell_type": "code",
   "execution_count": null,
   "metadata": {},
   "outputs": [],
   "source": []
  },
  {
   "cell_type": "code",
   "execution_count": null,
   "metadata": {},
   "outputs": [],
   "source": []
  }
 ],
 "metadata": {
  "kernelspec": {
   "display_name": "venv",
   "language": "python",
   "name": "python3"
  },
  "language_info": {
   "codemirror_mode": {
    "name": "ipython",
    "version": 3
   },
   "file_extension": ".py",
   "mimetype": "text/x-python",
   "name": "python",
   "nbconvert_exporter": "python",
   "pygments_lexer": "ipython3",
   "version": "3.10.9"
  },
  "orig_nbformat": 4,
  "vscode": {
   "interpreter": {
    "hash": "d59b506a0e703b59755888ed29552127d9b4544333d10d3ff144388b8386bf11"
   }
  }
 },
 "nbformat": 4,
 "nbformat_minor": 2
}
