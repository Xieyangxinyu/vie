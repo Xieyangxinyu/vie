{
 "cells": [
  {
   "cell_type": "code",
   "execution_count": null,
   "metadata": {},
   "outputs": [],
   "source": [
    "from dataset import load_openml\n",
    "X, y = load_openml('kin8nm')\n",
    "print(X.shape)\n",
    "print(y.shape)"
   ]
  },
  {
   "cell_type": "code",
   "execution_count": null,
   "metadata": {},
   "outputs": [],
   "source": [
    "# split into train and test sets\n",
    "from sklearn.model_selection import train_test_split\n",
    "X_train, X_test, y_train, y_test = train_test_split(X, y, test_size=0.1, random_state=42)\n",
    "# scale data\n",
    "from sklearn.preprocessing import MinMaxScaler\n",
    "scaler = MinMaxScaler()\n",
    "X_train = scaler.fit_transform(X_train)\n",
    "X_test = scaler.transform(X_test)\n",
    "# scale y\n",
    "y_train = y_train\n",
    "y_test = y_test"
   ]
  },
  {
   "cell_type": "code",
   "execution_count": null,
   "metadata": {},
   "outputs": [],
   "source": [
    "from Mondrian_forest import evaluate_all_lifetimes"
   ]
  },
  {
   "cell_type": "code",
   "execution_count": null,
   "metadata": {},
   "outputs": [],
   "source": [
    "M = 10                      # number of Mondrian trees to use\n",
    "delta = 0 \n",
    "lifetime_max = 3"
   ]
  },
  {
   "cell_type": "code",
   "execution_count": null,
   "metadata": {},
   "outputs": [],
   "source": [
    "results = []\n",
    "results.append(\n",
    "    evaluate_all_lifetimes(X_train, \n",
    "                           y_train, \n",
    "                           X_test, y_test, M, lifetime_max, delta))"
   ]
  },
  {
   "cell_type": "code",
   "execution_count": null,
   "metadata": {},
   "outputs": [],
   "source": [
    "import matplotlib.pyplot as plt\n",
    "plt.plot(results[0][0]['times'], results[0][0]['mse'], label = 'no transformation')\n",
    "plt.legend()"
   ]
  },
  {
   "cell_type": "code",
   "execution_count": null,
   "metadata": {},
   "outputs": [],
   "source": [
    "'''\n",
    "from others.sir import SlicedInverseRegression\n",
    "SIR_model = SlicedInverseRegression(n_directions=None)\n",
    "H = SIR_model.fit(X_train, y_train)\n",
    "from Mondrian_forest import transform_data, two_one_norm\n",
    "X_train_transformed, X_test_transformed = transform_data(H/two_one_norm(H), X_train, X_test)\n",
    "results[1] = \\\n",
    "    evaluate_all_lifetimes(X_train_transformed[:, :5], \n",
    "                           y_train, \n",
    "                           X_test_transformed[:, :5], y_test, M, lifetime_max, delta)\n",
    "plt.plot(results[0][0]['times'], results[0][0]['mse'], label = 'no transformation')\n",
    "plt.plot(results[1][0]['times'], results[1][0]['mse'], label = 'transformation')\n",
    "plt.legend()\n",
    "'''"
   ]
  },
  {
   "cell_type": "code",
   "execution_count": null,
   "metadata": {},
   "outputs": [],
   "source": [
    "from Mondrian_forest import train\n",
    "from estimate_H import estimate_H_finite_diff\n",
    "from Mondrian_forest import transform_data, two_one_norm\n",
    "history, w_trees = train(\n",
    "            X_train, y_train, M, lifetime_max, delta\n",
    "        )\n",
    "H_1 = estimate_H_finite_diff(X_train, y_train, M, history, w_trees, step_size=0.1)\n",
    "X_train_transformed, X_test_transformed = transform_data(H_1/two_one_norm(H_1), X_train, X_test)"
   ]
  },
  {
   "cell_type": "code",
   "execution_count": null,
   "metadata": {},
   "outputs": [],
   "source": [
    "import numpy as np\n",
    "eigvals = np.linalg.eig(H_1/two_one_norm(H_1))[0]\n",
    "# sort eigenvalues\n",
    "eigvals = np.sort(eigvals)[::-1]\n",
    "# plot eigenvalues\n",
    "plt.plot(eigvals)"
   ]
  },
  {
   "cell_type": "code",
   "execution_count": null,
   "metadata": {},
   "outputs": [],
   "source": [
    "results.append(\n",
    "    evaluate_all_lifetimes(X_train_transformed, \n",
    "                           y_train, \n",
    "                           X_test_transformed, y_test, M, lifetime_max, delta))\n",
    "plt.plot(results[0][0]['times'], results[0][0]['mse'], label = 'no transformation')\n",
    "plt.plot(results[1][0]['times'], results[1][0]['mse'], label = 'transformation')\n",
    "plt.legend()"
   ]
  },
  {
   "cell_type": "code",
   "execution_count": null,
   "metadata": {},
   "outputs": [],
   "source": [
    "import numpy as np\n",
    "history, w_trees = train(\n",
    "            X_train_transformed, y_train, M, lifetime_max, delta\n",
    "        )\n",
    "H_2 = estimate_H_finite_diff(X_train_transformed, y_train, M, history, w_trees, step_size=0.1)\n",
    "X_train_transformed, X_test_transformed = transform_data(H_2 * two_one_norm(H_1) / two_one_norm(np.matmul(H_2, H_1)), X_train_transformed, X_test_transformed)\n"
   ]
  },
  {
   "cell_type": "code",
   "execution_count": null,
   "metadata": {},
   "outputs": [],
   "source": [
    "results.append(\n",
    "    evaluate_all_lifetimes(X_train_transformed, \n",
    "                           y_train, \n",
    "                           X_test_transformed, y_test, M, lifetime_max, delta))\n",
    "plt.plot(results[0][0]['times'], results[0][0]['mse'], label = 'no transformation')\n",
    "plt.plot(results[1][0]['times'], results[1][0]['mse'], label = 'transformation')\n",
    "plt.plot(results[2][0]['times'], results[2][0]['mse'], label = 'transformation-2nd')\n",
    "plt.legend()"
   ]
  },
  {
   "cell_type": "code",
   "execution_count": null,
   "metadata": {},
   "outputs": [],
   "source": [
    "# fit random forest regression\n",
    "from sklearn.ensemble import RandomForestRegressor\n",
    "from sklearn.metrics import mean_squared_error\n",
    "rf = RandomForestRegressor(n_estimators=10, random_state=42, max_depth=5)\n",
    "rf.fit(X_train, y_train)\n",
    "y_pred = rf.predict(X_test)\n",
    "rf_mse = mean_squared_error(y_test, y_pred)\n",
    "rf_mse"
   ]
  },
  {
   "cell_type": "code",
   "execution_count": null,
   "metadata": {},
   "outputs": [],
   "source": [
    "rf = RandomForestRegressor(n_estimators=10, random_state=42, max_depth=5)\n",
    "rf.fit(X_train_transformed, y_train)\n",
    "y_pred = rf.predict(X_test_transformed)\n",
    "err = mean_squared_error(y_test, y_pred)\n",
    "err"
   ]
  },
  {
   "cell_type": "code",
   "execution_count": null,
   "metadata": {},
   "outputs": [],
   "source": [
    "eigvals = np.linalg.eig(np.matmul(H_2, H_1)/two_one_norm(np.matmul(H_2, H_1)))[0]\n",
    "# sort eigenvalues\n",
    "eigvals = np.sort(eigvals)[::-1]\n",
    "# plot eigenvalues\n",
    "plt.plot(eigvals)"
   ]
  },
  {
   "cell_type": "code",
   "execution_count": null,
   "metadata": {},
   "outputs": [],
   "source": [
    "plt.plot(results[0][0]['times'], results[0][0]['mse'], label = 'no transformation')\n",
    "plt.plot(results[1][0]['times'], results[1][0]['mse'], label = 'transformation')\n",
    "plt.plot(results[2][0]['times'], results[2][0]['mse'], label = 'transformation-2nd')\n",
    "# add a horizontal line for the random forest\n",
    "plt.axhline(y=rf_mse, color='r', linestyle='-', label = 'random forest')\n",
    "plt.legend()"
   ]
  },
  {
   "cell_type": "code",
   "execution_count": null,
   "metadata": {},
   "outputs": [],
   "source": [
    "plt.plot(results[0][0]['times'], results[0][0]['mse'], label = 'no transformation')\n",
    "plt.plot(results[1][0]['times'], results[1][0]['mse'], label = 'transformation')\n",
    "plt.plot(results[2][0]['times'], results[2][0]['mse'], label = 'transformation-2nd')\n",
    "# add a horizontal line for the random forest\n",
    "plt.axhline(y=rf_mse, color='r', linestyle='-', label = 'random forest')\n",
    "plt.axhline(y=err, color='r', linestyle='-', label = 'random forest with transformation')\n",
    "plt.legend()"
   ]
  },
  {
   "cell_type": "code",
   "execution_count": null,
   "metadata": {},
   "outputs": [],
   "source": [
    "from sklearn.pipeline import Pipeline\n",
    "from others.sir import SlicedInverseRegression\n",
    "from sklearn.ensemble import RandomForestRegressor\n",
    "forest = Pipeline([\n",
    "    ('sir', SlicedInverseRegression(n_directions=None)),\n",
    "    ('rf', RandomForestRegressor(n_estimators=10,random_state=42, max_depth=5))\n",
    "    ]).fit(X_train, y_train)\n",
    "y_pred = forest.predict(X_test)\n",
    "err = mean_squared_error(y_test, y_pred)\n",
    "err"
   ]
  },
  {
   "cell_type": "code",
   "execution_count": null,
   "metadata": {},
   "outputs": [],
   "source": [
    "from others.save import SlicedAverageVarianceEstimation\n",
    "forest = Pipeline([\n",
    "('save', SlicedAverageVarianceEstimation(n_directions=None)),\n",
    "('rf', RandomForestRegressor(n_estimators=10,random_state=42, max_depth=5))\n",
    "]).fit(X_train, y_train)\n",
    "y_pred = forest.predict(X_test)\n",
    "err = mean_squared_error(y_test, y_pred)\n",
    "err"
   ]
  },
  {
   "cell_type": "code",
   "execution_count": null,
   "metadata": {},
   "outputs": [],
   "source": [
    "sir = SlicedInverseRegression(n_directions=None)\n",
    "sir.fit(X_train, y_train)\n",
    "X_train_sir = sir.transform(X_train)\n",
    "X_test_sir = sir.transform(X_test)\n",
    "\n",
    "results.append(\n",
    "    evaluate_all_lifetimes(X_train_sir[:, :5], \n",
    "                           y_train, \n",
    "                           X_test_sir[:, :5],  y_test, M, lifetime_max, delta))\n",
    "plt.plot(results[0][0]['times'], results[0][0]['mse'], label = 'no transformation')\n",
    "plt.plot(results[1][0]['times'], results[1][0]['mse'], label = 'transformation')\n",
    "plt.plot(results[2][0]['times'], results[2][0]['mse'], label = 'transformation-2nd')\n",
    "plt.plot(results[3][0]['times'], results[3][0]['mse'], label = 'transformation-sir')\n",
    "plt.legend()"
   ]
  },
  {
   "cell_type": "code",
   "execution_count": null,
   "metadata": {},
   "outputs": [],
   "source": [
    "X_train_sir.shape"
   ]
  },
  {
   "cell_type": "code",
   "execution_count": null,
   "metadata": {},
   "outputs": [],
   "source": [
    "save = SlicedAverageVarianceEstimation(n_directions=None)\n",
    "save.fit(X_train, y_train)\n",
    "X_train_save = save.transform(X_train)\n",
    "X_test_save = save.transform(X_test)\n",
    "\n",
    "results.append(\n",
    "    evaluate_all_lifetimes(X_train_save, \n",
    "                           y_train, \n",
    "                           X_test_save, y_test, M, lifetime_max, delta))\n",
    "plt.plot(results[0][0]['times'], results[0][0]['mse'], label = 'no transformation')\n",
    "plt.plot(results[1][0]['times'], results[1][0]['mse'], label = 'transformation')\n",
    "plt.plot(results[2][0]['times'], results[2][0]['mse'], label = 'transformation-2nd')\n",
    "plt.plot(results[3][0]['times'], results[3][0]['mse'], label = 'transformation-sir')\n",
    "plt.plot(results[4][0]['times'], results[4][0]['mse'], label = 'transformation-save')\n",
    "plt.axhline(y=err, color='r', linestyle='-', label = 'random forest with save')\n",
    "plt.legend()"
   ]
  }
 ],
 "metadata": {
  "kernelspec": {
   "display_name": "GNN",
   "language": "python",
   "name": "python3"
  },
  "language_info": {
   "codemirror_mode": {
    "name": "ipython",
    "version": 3
   },
   "file_extension": ".py",
   "mimetype": "text/x-python",
   "name": "python",
   "nbconvert_exporter": "python",
   "pygments_lexer": "ipython3",
   "version": "3.11.6"
  }
 },
 "nbformat": 4,
 "nbformat_minor": 2
}
