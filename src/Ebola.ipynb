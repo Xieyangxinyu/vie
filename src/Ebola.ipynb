{
 "cells": [
  {
   "cell_type": "markdown",
   "metadata": {},
   "source": [
    "# A Modified SEIR Model for the Spread of Ebola in Western Africa and Metrics for Resource Allocation\n",
    "\n",
    "__Paul Diaz__, Colorado School of Mines, <pdiaz@mines.edu>\n",
    "\n",
    "__Paul Constantine__, Colorado School of Mines, <pconstan@mines.edu>\n",
    "\n",
    "__Kelsey Kalmbach__, Colorado School of Mines, <kkalmbac@mines.edu>\n",
    "\n",
    "__Eric Jones__, Colorado School of Mines, <ebjones@mines.edu>\n",
    "\n",
    "__Stephen Pankavich__, Colorado School of Mines, <pankavic@mines.edu>\n",
    "\n",
    "__Ryan Howard__, Colorado School of Mines, <ryhoward@mines.edu>\n",
    "\n",
    "<br>\n",
    "\n",
    "In this notebook, we'll be summarizing the active subspaces-based global sensitivity analysis on a model for the spread of Ebola, presented in [[1]][R1].\n",
    "\n",
    "### Introduction\n",
    "\n",
    "The recent Ebola outbreak in Western Africa has been the deadliest Ebola outbreak to date and has drawn international attention and support to the region. Important questions to consider are which countries should recieve additional aid and what aspects of the outbreak should the aid address. Some distinct characteristics of Ebola are its ability to remain infectious after the death of a host (especially problematic considering local burial rituals involve ample contact with the bodies of the dead) and the effects of hospitalization (hospital workers can be infected through contact with patients). In this notebook, we discuss an SEIR model that accounts for these aspects of Ebola and use _active subspaces_ to explore the global sensitivity of the model to its parameters.\n",
    "\n",
    "### The Ebola Model\n",
    "\n",
    "The model we employ is a modified SEIR model with the following assumptions: stochastic effects are negligible; births and non-ebola deaths are negligible; an individual can be removed and infectious (not properly buried), removed and non-infectious (properly buried), or removed and recovered; recovered individuals do not turn susceptible again; hospitalized individuals can spread the disease; deaths in hospitals are properly burried; and hospitalization increases chances of recovery. Under these assumptions, the equations governing our model are:\n",
    "\n",
    "$$\n",
    "\\begin{align}\n",
    "\\frac{dS}{dt} &= -\\beta_1SI - \\beta_2SR_I - \\beta_3SH,\\\\\n",
    "\\frac{dE}{dt} &= \\beta_1SI + \\beta_2SR_I + \\beta_3SH - \\delta E,\\\\\n",
    "\\frac{dI}{dt} &= \\delta E - \\gamma_1I - \\psi I,\\\\\n",
    "\\frac{dH}{dt} &= \\psi I - \\gamma_2H,\\\\\n",
    "\\frac{dR_I}{dt} &= \\rho_1\\gamma_1I - \\omega R_I,\\\\\n",
    "\\frac{dR_B}{dt} &= \\omega R_I + \\rho_2\\gamma_2H,\\\\\n",
    "\\frac{dR_R}{dt} &= (1-\\rho_1)\\gamma_1I + (1-\\rho_2)\\gamma_2H,\n",
    "\\end{align}\n",
    "$$\n",
    "\n",
    "where $S$ represents the fraction of the population that is susceptible to infection, $E$ is the exposed population (infected but asymptomatic), $I$ is the infected fraction, $H$ is the hospitalized fraction, $R_I$ is the infectious dead (not properly buried), $R_B$ is the non-infectious dead (properly buried), and $R_R$ is the recovered population.\n",
    "\n",
    "The basic reproduction number (a metric measuring how many new cases of disease each current case causes) can be found to be\n",
    "\n",
    "$$\n",
    "R_0 = \\frac{\\beta_1 + \\frac{\\beta_2\\rho_1\\gamma_1}{\\omega} + \\frac{\\beta_3}{\\gamma_2}\\psi}{\\gamma_1 + \\psi}.\n",
    "$$\n",
    "\n",
    "The parameters are fit using data for the countries of Liberia and Sierra Leone, the results of which are summarized in the table below ($\\delta$ is assumed to be $\\frac 1 9$ in each case, a number taken from other sources).\n",
    "\n",
    "Parameter | Liberia | Sierra Leone\n",
    ":--------:|:-------:|:---------:\n",
    "$\\beta_1$|.376|.251\n",
    "$\\beta_2$|.135|.395\n",
    "$\\beta_3$|.163|.079\n",
    "$\\gamma_1$|.0542|.051\n",
    "$\\gamma_2$|.174|.0833\n",
    "$\\psi$|.5|.442\n",
    "$\\rho_1$|.98|.76\n",
    "$\\rho_2$|.88|.74\n",
    "$\\omega$|.325|.370\n",
    "\n",
    "This results in basic reproduction numbers of 1.563 for Liberia and 1.445 for Sierra Leone.\n",
    "\n",
    "### Active Subspaces\n",
    "\n",
    "Active subspaces is a method for quantifying the global sensitivity of a model's output to its input parameters. In our case, the output is $R_0(\\mathbf x)$, where $\\mathbf x\\in R^8$ is a vector representing the 8 normalized parameters $R_0$ depends on. The method is based on the matrix\n",
    "\n",
    "$$\n",
    "\\mathbf C = \\int\\nabla R_0(\\mathbf x)\\nabla R_0(\\mathbf x)^T\\rho(\\mathbf x)\\ d\\mathbf x = \\mathbf W\\Lambda\\mathbf W^T,\n",
    "$$\n",
    "\n",
    "where $\\nabla R_0$ is the gradient of $R_0$ with respect to the normalized parameters, $\\rho$ is a probability density on the parameters, and $\\mathbf W\\Lambda\\mathbf W^T$ is the eigendecomposition of $\\mathbf C$ (with the eigenvalues in descending order). The eigenpairs satisfy the relationship $\\lambda_i = \\int(\\nabla R_0^T\\mathbf w_i)^2\\rho\\ d\\mathbf x$. In words, this means the $i^{th}$ eigenvalue quantifies the average squared derivative of $R_0$ in the direction defined by the corresponding eigenvector; if some eigenvalues are small compared to the rest, $R_0$ will likely be relatively flat in the subspace defined by the span of the corresponding eigenvectors. Suppose $\\lambda_{n+1} \\ll \\lambda_n$ for some $n < 7$. Then we can partition the eigendecomposition as\n",
    "\n",
    "$$\n",
    "\\Lambda = \\left[\\begin{matrix}\\Lambda_1 & \\\\ & \\Lambda_2\\end{matrix}\\right],\\ \\mathbf W = \\left[\\begin{matrix}\\mathbf W_1 & \\mathbf W_2\\end{matrix}\\right],\n",
    "$$\n",
    "\n",
    "where $\\Lambda_1$ contains the first $n$ eigenvalues and $\\mathbf W_1$ the corresponding eigenvectors. We define $\\alpha\\in R^8$ as $\\alpha = \\alpha(n) = \\sum_{j=1}^n\\lambda_j\\mathbf w_j^2$, where the exponent is elementwise. We call the components of $\\alpha$ _activity scores_; a larger score for a parameter indicates relative sensitivity compared to the others.\n",
    "\n",
    "For the following analysis, we use the following distributions ($\\rho = $ U(min, max)) for the parameters.\n",
    "\n",
    "Parameter | Liberia | Sierra Leone\n",
    ":--------:|:-------:|:---------:\n",
    "$\\beta_1$|U(.1, .4)|U(.1, .4)\n",
    "$\\beta_2$|U(.1, .4)|U(.1, .4)\n",
    "$\\beta_3$|U(.05, .2)|U(.05, .2)\n",
    "$\\rho_1$|U(.41, 1)|U(.41, 1)\n",
    "$\\gamma_1$|U(.0276, .1702)|U(.0275, .1569)\n",
    "$\\gamma_2$|U(.081, .21)|U(.1236, .384)\n",
    "$\\omega$|U(.25, .5)|U(.25, .5)\n",
    "$\\psi$|U(.0833, .7)|U(.0833, .7)\n",
    "\n",
    "### References:\n",
    "\n",
    "[[1]][R1] P. Diaz, P. Constantine, K. Kalmbach, E. Jones, and S. Pankavich. _A Modified SEIR Model for the Spread of Ebola in Western Africa and Metrics for Resource Allocation_. arXiv:1603.04955, 2016\n",
    "\n",
    "[[2]][R2] P.G. Constantine, E. Dow, and Q. Wang. _Active subspaces in theory and practice: applications to kriging surfaces_. SIAM J. Sci. Comput., 36(4), A1500–A1524, 2014\n",
    "\n",
    "[R1]: http://arxiv.org/abs/1603.04955\n",
    "[R2]: http://dx.doi.org/10.1137/130916138\n",
    "\n",
    "### Acknowledgments\n",
    "\n",
    "This material is based upon work supported by the U.S. Department of Energy Office of Science, Office of Advanced Scientific Computing Research, Applied Mathematics program under Award Number DE-SC-0011077.\n",
    "\n",
    "<br>\n",
    "\n",
    "We'll now code up the analysis using the [Python Active-subspaces Utility Library](https://github.com/paulcon/active_subspaces)."
   ]
  },
  {
   "cell_type": "code",
   "execution_count": 1,
   "metadata": {
    "collapsed": true
   },
   "outputs": [],
   "source": [
    "%matplotlib inline\n",
    "import numpy as np\n",
    "import matplotlib.pyplot as plt\n",
    "from quadrature import gauss_legendre"
   ]
  },
  {
   "cell_type": "markdown",
   "metadata": {},
   "source": [
    "First we set up functions returning $R_0$ and its gradient with respect to unnormalized parameters."
   ]
  },
  {
   "cell_type": "code",
   "execution_count": 2,
   "metadata": {
    "collapsed": true
   },
   "outputs": [],
   "source": [
    "#Liberian lower and upper parameter bounds\n",
    "lb_L = np.array([.1, .1, .05, .41, .0276, .081, .25, .0833])\n",
    "ub_L = np.array([.4, .4, .2, 1, .1702, .21, .5, .7])\n",
    "\n",
    "#basic reproduction number\n",
    "def R0(x):\n",
    "    b1 = x[:,0]; b2 = x[:,1]; b3 = x[:,2]; r1 = x[:,3]\n",
    "    g1 = x[:,4]; g2 = x[:,5]; om = x[:,6]; p = x[:,7]\n",
    "    \n",
    "    return (b1 + b2*r1*g1/om + b3*p/g2)/(g1 + p)\n",
    "\n",
    "#reproduction number gradient with respect to UNnormalized parameters\n",
    "def R0_grad(x):\n",
    "    b1 = x[:,0]; b2 = x[:,1]; b3 = x[:,2]; r1 = x[:,3]\n",
    "    g1 = x[:,4]; g2 = x[:,5]; om = x[:,6]; p = x[:,7]\n",
    "    \n",
    "    dRdb1 = (1./(g1 + p))[:,None]\n",
    "    dRdb2 = (r1*g1/om/(g1 + p))[:,None]\n",
    "    dRdb3 = (p/g2/(g1 + p))[:,None]\n",
    "    dRdr1 = (b2*g1/om/(g1 + p))[:,None]\n",
    "    dRdg1 = (b2*r1/om/(g1 + p) - R0(x)/(g1 + p))[:,None]\n",
    "    dRdg2 = (-b3*p/g2**2/(g1 + p))[:,None]\n",
    "    dRdom = (-b2*r1*g1/om**2/(g1 + p))[:,None]\n",
    "    dRdp = (b3/g2/(g1 + p) - R0(x)/(g1 + p))[:,None]\n",
    "    \n",
    "    return np.hstack((dRdb1, dRdb2, dRdb3, dRdr1, dRdg1, dRdg2, dRdom, dRdp))\n",
    "\n",
    "#Integrand for C\n",
    "def subspace_integrand(df):\n",
    "    df = df.reshape((8, 1))\n",
    "    return df.dot(df.T)*2**-8\n",
    "\n",
    "#labels for plots\n",
    "in_labels = [r'$\\beta_1$', r'$\\beta_2$', r'$\\beta_3$', r'$\\rho_1$', r'$\\gamma_1$',\\\n",
    "            r'$\\gamma_2$', r'$\\omega$', r'$\\psi$']\n",
    "out_labels = ['Liberia', 'Sierra Leone']"
   ]
  },
  {
   "cell_type": "markdown",
   "metadata": {},
   "source": [
    "$\\mathbf C$ is approximated with Gauss-Legendre quadrature with 8 points in each of the 8 dimensions of the parameter space. Gradients with respect to normalized parameters must be computed according to the chain rule: if $p$ is an unnormalized parameter and $x$ is its normalized version, then $\\frac{\\partial R_0}{\\partial x} = \\frac{\\partial R_0}{\\partial p}\\frac{\\partial p}{\\partial x}$, and $p = l + \\frac{u-l}{2}(x+1)\\Rightarrow\\frac{\\partial p}{\\partial x} = \\frac{u - l}{2}$, where $u$ and $l$ are the upper and lower bounds on the parameter. This takes about 15 minutes on a standard workstation."
   ]
  },
  {
   "cell_type": "code",
   "execution_count": 3,
   "metadata": {
    "collapsed": false
   },
   "outputs": [],
   "source": [
    "#gauss-legendre quadrature points/weights\n",
    "xx, w = gauss_legendre([8, 8, 8, 8, 8, 8, 8, 8])\n",
    "\n",
    "#un-normalized inputs for Liberia (S) and Sierra Leone (S)\n",
    "x_L = lb_L + (ub_L - lb_L)/2.*(xx + 1)\n",
    "\n",
    "#output and gradient values\n",
    "R_L = R0(x_L)\n",
    "dR_L = R0_grad(x_L)\n",
    "\n",
    "#Gradients with respect to noramlized inputs according to the chain rule\n",
    "dR_L *= (ub_L - lb_L)/2\n",
    "\n",
    "#Compute C for Liberia\n",
    "integrands = []\n",
    "for i in range(dR_L.shape[0]):\n",
    "    integrands.append(subspace_integrand(dR_L[i])*w[i])\n",
    "integrands = np.array(integrands)\n",
    "C_L = integrands.sum(axis=0)"
   ]
  },
  {
   "cell_type": "markdown",
   "metadata": {},
   "source": [
    "Now that we have the $\\mathbf C$'s, we compute their eigendecompositions."
   ]
  },
  {
   "cell_type": "code",
   "execution_count": 4,
   "metadata": {
    "collapsed": false
   },
   "outputs": [],
   "source": [
    "def sorted_eigh(C):\n",
    "    \"\"\"Compute eigenpairs and sort.\n",
    "    \n",
    "    Parameters\n",
    "    ----------\n",
    "    C : ndarray\n",
    "        matrix whose eigenpairs you want\n",
    "        \n",
    "    Returns\n",
    "    -------\n",
    "    e : ndarray\n",
    "        vector of sorted eigenvalues\n",
    "    W : ndarray\n",
    "        orthogonal matrix of corresponding eigenvectors\n",
    "    \n",
    "    Notes\n",
    "    -----\n",
    "    Eigenvectors are unique up to a sign. We make the choice to normalize the\n",
    "    eigenvectors so that the first component of each eigenvector is positive.\n",
    "    This normalization is very helpful for the bootstrapping. \n",
    "    \"\"\"\n",
    "    e, W = np.linalg.eigh(C)\n",
    "    e = abs(e)\n",
    "    ind = np.argsort(e)\n",
    "    e = e[ind[::-1]]\n",
    "    W = W[:,ind[::-1]]\n",
    "    s = np.sign(W[0,:])\n",
    "    s[s==0] = 1\n",
    "    W = W*s\n",
    "    return e.reshape((e.size,1)), W\n",
    "\n",
    "#Sorted eigendecompositions for the C matrices\n",
    "e_L, W_L = sorted_eigh(C_L)"
   ]
  },
  {
   "cell_type": "markdown",
   "metadata": {},
   "source": [
    "We'll now plot various quantities related to the active subspace analysis, starting with eigenvalues."
   ]
  },
  {
   "cell_type": "code",
   "execution_count": 5,
   "metadata": {},
   "outputs": [
    {
     "data": {
      "text/plain": [
       "array([[3.99118291e-03],\n",
       "       [1.02750335e-03],\n",
       "       [9.82064398e-05],\n",
       "       [5.09572994e-05],\n",
       "       [1.71125713e-05],\n",
       "       [5.53421201e-06],\n",
       "       [1.43882193e-06],\n",
       "       [3.05089821e-07]])"
      ]
     },
     "execution_count": 5,
     "metadata": {},
     "output_type": "execute_result"
    }
   ],
   "source": [
    "e_L"
   ]
  },
  {
   "cell_type": "code",
   "execution_count": 24,
   "metadata": {},
   "outputs": [
    {
     "data": {
      "text/plain": [
       "'\\nfrom sklearn.preprocessing import MinMaxScaler\\nscaler = MinMaxScaler()\\nx_train = scaler.fit_transform(x_train)\\nx_test = scaler.transform(x_test)\\n'"
      ]
     },
     "execution_count": 24,
     "metadata": {},
     "output_type": "execute_result"
    }
   ],
   "source": [
    "sample_range = [100, 200, 400, 800, 1600]\n",
    "\n",
    "from sklearn.model_selection import train_test_split\n",
    "x_train, x_test, y_train, y_test = train_test_split(xx, R_L, test_size=0.2, random_state=42)\n",
    "\n",
    "'''\n",
    "from sklearn.preprocessing import MinMaxScaler\n",
    "scaler = MinMaxScaler()\n",
    "x_train = scaler.fit_transform(x_train)\n",
    "x_test = scaler.transform(x_test)\n",
    "'''"
   ]
  },
  {
   "cell_type": "code",
   "execution_count": 25,
   "metadata": {},
   "outputs": [
    {
     "name": "stderr",
     "output_type": "stream",
     "text": [
      "100%|██████████| 10/10 [00:01<00:00,  7.31it/s]\n",
      "100%|██████████| 10/10 [00:02<00:00,  4.97it/s]\n",
      "100%|██████████| 10/10 [00:04<00:00,  2.49it/s]\n",
      "100%|██████████| 10/10 [00:07<00:00,  1.34it/s]\n",
      "100%|██████████| 10/10 [00:18<00:00,  1.87s/it]\n"
     ]
    }
   ],
   "source": [
    "from tqdm import tqdm\n",
    "from Mondrian_forest import *\n",
    "tries = 10\n",
    "lifetime = 5\n",
    "M = 10                      # number of Mondrian trees to use\n",
    "delta = 0\n",
    "\n",
    "stats = []\n",
    "for i in range(len(sample_range)):\n",
    "    n_sim = sample_range[i]\n",
    "    dist = {'n': n_sim, 'history': []}\n",
    "    for trial in tqdm(range(tries)):\n",
    "        history, w_trees = train(\n",
    "            x_train[:n_sim, ], y_train[:n_sim, ], M, lifetime, delta\n",
    "        )\n",
    "        dist['history'].append([history, w_trees])\n",
    "    stats.append(dist)"
   ]
  },
  {
   "cell_type": "code",
   "execution_count": 26,
   "metadata": {},
   "outputs": [
    {
     "name": "stderr",
     "output_type": "stream",
     "text": [
      "100%|██████████| 10/10 [00:04<00:00,  2.43it/s]\n",
      "100%|██████████| 10/10 [00:08<00:00,  1.12it/s]\n",
      "100%|██████████| 10/10 [00:21<00:00,  2.11s/it]\n",
      "100%|██████████| 10/10 [00:54<00:00,  5.46s/it]\n",
      "100%|██████████| 10/10 [02:39<00:00, 15.94s/it]\n"
     ]
    }
   ],
   "source": [
    "from estimate_H import *\n",
    "raw_H_estimates = get_H_estimates(stats, x_train, y_train, M, sample_range, tries = 10)"
   ]
  },
  {
   "cell_type": "code",
   "execution_count": 27,
   "metadata": {},
   "outputs": [
    {
     "data": {
      "image/png": "[encoded data removed]",
      "text/plain": [
       "<Figure size 640x480 with 1 Axes>"
      ]
     },
     "metadata": {},
     "output_type": "display_data"
    }
   ],
   "source": [
    "from util import *\n",
    "np.set_printoptions(precision=4)\n",
    "\n",
    "def get_angle_distance(H, truth, active, dim_in):\n",
    "    eigenvectors = get_eig(H)\n",
    "    Q_H, _ = qr(eigenvectors[:, :active])\n",
    "    \n",
    "    eigenvectors = get_eig(truth)\n",
    "    Q_t, _ = qr(eigenvectors[:, :active])\n",
    "\n",
    "    D = np.matmul(np.transpose(Q_H), Q_t)\n",
    "\n",
    "    _, S, _ = svd(D, full_matrices=True)\n",
    "    return np.max(np.arccos(S))\n",
    "\n",
    "plot_H_estimates(raw_H_estimates, C_L, get_angle_distance, sample_range, 2, 8)"
   ]
  },
  {
   "cell_type": "code",
   "execution_count": 28,
   "metadata": {},
   "outputs": [],
   "source": [
    "lifetime_max = 5\n",
    "n_sim = 1600\n",
    "results = []\n",
    "results.append(\n",
    "    evaluate_all_lifetimes(x_train[:n_sim,], \n",
    "                           y_train[:n_sim], \n",
    "                           x_test, y_test, M, lifetime_max, delta))"
   ]
  },
  {
   "cell_type": "code",
   "execution_count": 29,
   "metadata": {},
   "outputs": [],
   "source": [
    "x_train_transformed, x_test_transformed = transform_data(C_L/two_one_norm(C_L), x_train, x_test)\n",
    "results.append(\n",
    "    evaluate_all_lifetimes(x_train_transformed[:n_sim, ], \n",
    "                           y_train[:n_sim], \n",
    "                           x_test_transformed, y_test, M, lifetime_max, delta))"
   ]
  },
  {
   "cell_type": "code",
   "execution_count": 30,
   "metadata": {},
   "outputs": [],
   "source": [
    "H_1 = raw_H_estimates[4]['H'][0]/two_one_norm(raw_H_estimates[4]['H'][0])\n",
    "\n",
    "x_train_transformed, x_test_transformed = transform_data(H_1, x_train, x_test)\n",
    "results.append(\n",
    "    evaluate_all_lifetimes(x_train_transformed[:n_sim, ], \n",
    "                           y_train[:n_sim], \n",
    "                           x_test_transformed, y_test, M, lifetime_max, delta))"
   ]
  },
  {
   "cell_type": "code",
   "execution_count": 31,
   "metadata": {},
   "outputs": [
    {
     "data": {
      "text/plain": [
       "<matplotlib.legend.Legend at 0x447078d50>"
      ]
     },
     "execution_count": 31,
     "metadata": {},
     "output_type": "execute_result"
    },
    {
     "data": {
      "image/png": "[encoded data removed]",
      "text/plain": [
       "<Figure size 640x480 with 1 Axes>"
      ]
     },
     "metadata": {},
     "output_type": "display_data"
    }
   ],
   "source": [
    "plt.plot(results[0][0]['times'], results[0][0]['mse'], label = 'no transformation')\n",
    "plt.plot(results[1][0]['times'], results[1][0]['mse'], label = 'transform by true H')\n",
    "plt.plot(results[2][0]['times'], results[2][0]['mse'], label = 'transform by estimated H')\n",
    "plt.legend()"
   ]
  }
 ],
 "metadata": {
  "kernelspec": {
   "display_name": ".venv",
   "language": "python",
   "name": "python3"
  },
  "language_info": {
   "codemirror_mode": {
    "name": "ipython",
    "version": 3
   },
   "file_extension": ".py",
   "mimetype": "text/x-python",
   "name": "python",
   "nbconvert_exporter": "python",
   "pygments_lexer": "ipython3",
   "version": "3.11.6"
  }
 },
 "nbformat": 4,
 "nbformat_minor": 0
}
