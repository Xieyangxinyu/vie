{
 "cells": [
  {
   "cell_type": "code",
   "execution_count": 1,
   "metadata": {},
   "outputs": [],
   "source": [
    "import numpy as np\n",
    "from sklearn.decomposition import PCA\n",
    "from sklearn.ensemble import RandomForestRegressor\n",
    "from sklearn.model_selection import train_test_split\n",
    "from sklearn.base import clone\n",
    "from dataset import load_abalone\n",
    "\n",
    "# Load a sample dataset\n",
    "X, y = load_abalone()\n",
    "\n",
    "X_train, X_test, y_train, y_test = train_test_split(X, y, test_size=0.1, random_state=42)\n",
    "# scale data\n",
    "from sklearn.preprocessing import MinMaxScaler\n",
    "scaler = MinMaxScaler()\n",
    "X_train = scaler.fit_transform(X_train)\n",
    "X_test = scaler.transform(X_test)\n",
    "\n",
    "class RotationForestRegressor:\n",
    "    def __init__(self, n_estimators=10, n_features_per_subset=3):\n",
    "        self.n_estimators = n_estimators\n",
    "        self.n_features_per_subset = n_features_per_subset\n",
    "        self.estimators_ = []\n",
    "        self.pca_components_ = []\n",
    "\n",
    "    def fit(self, X, y):\n",
    "        n_samples, n_features = X.shape\n",
    "        self.features_indices_ = [np.random.choice(range(n_features), \n",
    "                                  self.n_features_per_subset, replace=False)\n",
    "                                  for _ in range(self.n_estimators)]\n",
    "\n",
    "        for feature_indices in self.features_indices_:\n",
    "            X_subset = X[:, feature_indices]\n",
    "            pca = PCA()\n",
    "            X_subset_transformed = pca.fit_transform(X_subset)\n",
    "            self.pca_components_.append(pca.components_)\n",
    "\n",
    "            estimator = RandomForestRegressor(random_state=np.random.RandomState())\n",
    "            estimator.fit(X_subset_transformed, y)\n",
    "            self.estimators_.append(estimator)\n",
    "\n",
    "    def predict(self, X):\n",
    "        predictions = np.zeros((X.shape[0], self.n_estimators))\n",
    "\n",
    "        for idx, (estimator, feature_indices, components) in enumerate(\n",
    "                zip(self.estimators_, self.features_indices_, self.pca_components_)):\n",
    "            X_subset = X[:, feature_indices]\n",
    "            X_subset_transformed = np.dot(X_subset, components.T)\n",
    "            predictions[:, idx] = estimator.predict(X_subset_transformed)\n",
    "\n",
    "        return np.mean(predictions, axis=1)\n",
    "\n",
    "# Create and fit the Rotation Forest\n",
    "rot_forest = RotationForestRegressor()\n",
    "rot_forest.fit(X_train, y_train)\n",
    "\n",
    "# Make predictions\n",
    "predictions = rot_forest.predict(X_test)\n"
   ]
  },
  {
   "cell_type": "code",
   "execution_count": 2,
   "metadata": {},
   "outputs": [
    {
     "name": "stdout",
     "output_type": "stream",
     "text": [
      "Mean Squared Error: 27.30648678560141\n"
     ]
    }
   ],
   "source": [
    "from sklearn.metrics import mean_squared_error\n",
    "\n",
    "# Assuming you have y_test (actual values) and predictions from the model\n",
    "mse = mean_squared_error(y_test, predictions)\n",
    "print(\"Mean Squared Error:\", mse)\n"
   ]
  }
 ],
 "metadata": {
  "kernelspec": {
   "display_name": ".venv",
   "language": "python",
   "name": "python3"
  },
  "language_info": {
   "codemirror_mode": {
    "name": "ipython",
    "version": 3
   },
   "file_extension": ".py",
   "mimetype": "text/x-python",
   "name": "python",
   "nbconvert_exporter": "python",
   "pygments_lexer": "ipython3",
   "version": "3.11.6"
  }
 },
 "nbformat": 4,
 "nbformat_minor": 2
}
