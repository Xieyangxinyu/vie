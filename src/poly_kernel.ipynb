{
 "cells": [
  {
   "cell_type": "code",
   "execution_count": 1,
   "metadata": {},
   "outputs": [
    {
     "data": {
      "text/plain": [
       "array([[1., 0., 0., 0., 0.],\n",
       "       [1., 1., 0., 0., 0.],\n",
       "       [1., 0., 1., 0., 0.],\n",
       "       [0., 1., 0., 1., 0.],\n",
       "       [0., 1., 0., 0., 1.]])"
      ]
     },
     "execution_count": 1,
     "metadata": {},
     "output_type": "execute_result"
    }
   ],
   "source": [
    "import numpy as np\n",
    "from scipy.stats import special_ortho_group\n",
    "import jax.numpy as jnp\n",
    "from jax import grad, vmap\n",
    "from Mondrian_forest import *\n",
    "from tqdm import tqdm\n",
    "import matplotlib.pyplot as plt\n",
    "import pandas as pd\n",
    "import pickle\n",
    "\n",
    "dim_in = 5\n",
    "active = 2\n",
    "def simulate_y(x, rotation, seed = 0, noise_sig2 = 0.0001):\n",
    "    res = jnp.dot(x, rotation)\n",
    "    projected = jnp.concatenate([jnp.ones(active), jnp.zeros(dim_in - active)])\n",
    "    y = jnp.dot(res ** 4, projected)\n",
    "    r_noise = np.random.RandomState(seed)\n",
    "    #n = len(x)\n",
    "    noise = r_noise.randn(1)[0] * jnp.sqrt(noise_sig2)\n",
    "    y = y + noise\n",
    "    return y\n",
    "\n",
    "\n",
    "n = 2000\n",
    "n_test = 1000\n",
    "tries = 10\n",
    "\n",
    "\n",
    "x_train, _, x_test, _, _ = pickle.load(open('axis_aligned_data.pickle', 'rb'))\n",
    "\n",
    "x_train = x_train[:, :dim_in]\n",
    "x_test = x_test[:, :dim_in]\n",
    "\n",
    "rotation = np.identity(dim_in)\n",
    "rotation[1,0] = 1\n",
    "rotation[2,0] = 1\n",
    "rotation[3,1] = rotation[4,1] = 1\n",
    "\n",
    "y_train = simulate_y(x_train, rotation)\n",
    "\n",
    "y_test = simulate_y(x_test, rotation)\n",
    "\n",
    "sample_range = [100, 200, 400, 800, 1600]\n",
    "\n",
    "M = 10                      # number of Mondrian trees to use\n",
    "delta = 0                   # ridge regression delta\n",
    "\n",
    "rotation"
   ]
  },
  {
   "cell_type": "code",
   "execution_count": 2,
   "metadata": {},
   "outputs": [],
   "source": [
    "\n",
    "W_grad = vmap(grad(simulate_y, argnums=0), in_axes=(0, None), out_axes=0)(x_test, rotation)\n",
    "from numpy import linalg\n",
    "true_H = jnp.matmul(jnp.transpose(W_grad), W_grad) / n_test\n",
    "norm_H = linalg.norm(true_H, ord = 2)"
   ]
  },
  {
   "cell_type": "code",
   "execution_count": 3,
   "metadata": {},
   "outputs": [
    {
     "data": {
      "text/plain": [
       "Array([[0.41535, 0.51755, 0.41535, 0.1022 , 0.1022 ],\n",
       "       [0.51755, 1.10785, 0.51755, 0.5903 , 0.5903 ],\n",
       "       [0.41535, 0.51755, 0.41535, 0.1022 , 0.1022 ],\n",
       "       [0.1022 , 0.5903 , 0.1022 , 0.4881 , 0.4881 ],\n",
       "       [0.1022 , 0.5903 , 0.1022 , 0.4881 , 0.4881 ]], dtype=float32)"
      ]
     },
     "execution_count": 3,
     "metadata": {},
     "output_type": "execute_result"
    }
   ],
   "source": [
    "np.set_printoptions(precision=5, suppress=True)\n",
    "true_H/two_one_norm(true_H)"
   ]
  },
  {
   "cell_type": "code",
   "execution_count": 4,
   "metadata": {},
   "outputs": [
    {
     "data": {
      "text/plain": [
       "2"
      ]
     },
     "execution_count": 4,
     "metadata": {},
     "output_type": "execute_result"
    }
   ],
   "source": [
    "np.linalg.matrix_rank(true_H)"
   ]
  },
  {
   "cell_type": "markdown",
   "metadata": {},
   "source": [
    "# Save training history"
   ]
  },
  {
   "cell_type": "code",
   "execution_count": 5,
   "metadata": {},
   "outputs": [
    {
     "name": "stderr",
     "output_type": "stream",
     "text": [
      "  0%|          | 0/10 [00:00<?, ?it/s]"
     ]
    },
    {
     "name": "stderr",
     "output_type": "stream",
     "text": [
      "100%|██████████| 10/10 [00:00<00:00, 10.99it/s]\n",
      "100%|██████████| 10/10 [00:01<00:00,  5.80it/s]\n",
      "100%|██████████| 10/10 [00:03<00:00,  2.95it/s]\n",
      "100%|██████████| 10/10 [00:06<00:00,  1.48it/s]\n",
      "100%|██████████| 10/10 [00:16<00:00,  1.66s/it]\n"
     ]
    }
   ],
   "source": [
    "lifetime = 5\n",
    "\n",
    "stats = []\n",
    "for i in range(len(sample_range)):\n",
    "    n_sim = sample_range[i]\n",
    "    dist = {'n': n_sim, 'history': []}\n",
    "    for trial in tqdm(range(tries)):\n",
    "        history, w_trees = train(\n",
    "            x_train[:n_sim, ], y_train[:n_sim, ], M, lifetime, delta\n",
    "        )\n",
    "        dist['history'].append([history, w_trees])\n",
    "    stats.append(dist)"
   ]
  },
  {
   "cell_type": "markdown",
   "metadata": {},
   "source": [
    "# Get H estimate"
   ]
  },
  {
   "cell_type": "code",
   "execution_count": 6,
   "metadata": {},
   "outputs": [
    {
     "name": "stderr",
     "output_type": "stream",
     "text": [
      "100%|██████████| 10/10 [00:02<00:00,  3.38it/s]\n",
      "100%|██████████| 10/10 [00:06<00:00,  1.65it/s]\n",
      "100%|██████████| 10/10 [00:13<00:00,  1.39s/it]\n",
      "100%|██████████| 10/10 [00:33<00:00,  3.37s/it]\n",
      "100%|██████████| 10/10 [01:28<00:00,  8.80s/it]\n"
     ]
    }
   ],
   "source": [
    "from estimate_H import *\n",
    "raw_H_estimates = get_H_estimates(stats, x_train, y_train, M, sample_range, tries = 10)"
   ]
  },
  {
   "cell_type": "code",
   "execution_count": 7,
   "metadata": {},
   "outputs": [
    {
     "data": {
      "image/png": "[encoded data removed]",
      "text/plain": [
       "<Figure size 640x480 with 1 Axes>"
      ]
     },
     "metadata": {},
     "output_type": "display_data"
    }
   ],
   "source": [
    "from util import *\n",
    "np.set_printoptions(precision=4)\n",
    "plot_H_estimates(raw_H_estimates, true_H, get_angle_distance, sample_range, active, dim_in)"
   ]
  },
  {
   "cell_type": "code",
   "execution_count": 8,
   "metadata": {},
   "outputs": [],
   "source": [
    "lifetime_max = 5\n",
    "n_sim = 1600\n",
    "results = []\n",
    "results.append(\n",
    "    evaluate_all_lifetimes(x_train[:n_sim,], \n",
    "                           y_train[:n_sim], \n",
    "                           x_test, y_test, M, lifetime_max, delta))"
   ]
  },
  {
   "cell_type": "code",
   "execution_count": 9,
   "metadata": {},
   "outputs": [],
   "source": [
    "x_train_transformed, x_test_transformed = transform_data(true_H/two_one_norm(true_H), x_train, x_test)\n",
    "results.append(\n",
    "    evaluate_all_lifetimes(x_train_transformed[:n_sim, ], \n",
    "                           y_train[:n_sim], \n",
    "                           x_test_transformed, y_test, M, lifetime_max, delta))"
   ]
  },
  {
   "cell_type": "code",
   "execution_count": 10,
   "metadata": {},
   "outputs": [],
   "source": [
    "H_1 = raw_H_estimates[4]['H'][0]/two_one_norm(raw_H_estimates[4]['H'][0])\n",
    "\n",
    "x_train_transformed, x_test_transformed = transform_data(H_1, x_train, x_test)\n",
    "results.append(\n",
    "    evaluate_all_lifetimes(x_train_transformed[:n_sim, ], \n",
    "                           y_train[:n_sim], \n",
    "                           x_test_transformed, y_test, M, lifetime_max, delta))"
   ]
  },
  {
   "cell_type": "code",
   "execution_count": 11,
   "metadata": {},
   "outputs": [],
   "source": [
    "# subset results[0][0]['times'] whose indices mod 10 == 0\n",
    "\n",
    "def process_times(times):\n",
    "    return [times[i] for i in range(len(times)) if i % 10 == 0]"
   ]
  },
  {
   "cell_type": "code",
   "execution_count": 12,
   "metadata": {},
   "outputs": [
    {
     "data": {
      "text/plain": [
       "<matplotlib.legend.Legend at 0x10969bbb0>"
      ]
     },
     "execution_count": 12,
     "metadata": {},
     "output_type": "execute_result"
    },
    {
     "data": {
      "image/png": "[encoded data removed]",
      "text/plain": [
       "<Figure size 640x480 with 1 Axes>"
      ]
     },
     "metadata": {},
     "output_type": "display_data"
    }
   ],
   "source": [
    "plt.plot(results[0][0]['times'], results[0][0]['mse'], label = 'no transformation')\n",
    "plt.plot(results[1][0]['times'], results[1][0]['mse'], label = 'transform by true H')\n",
    "plt.plot(results[2][0]['times'], results[2][0]['mse'], label = 'transform by estimated H')\n",
    "plt.legend()"
   ]
  },
  {
   "cell_type": "code",
   "execution_count": 13,
   "metadata": {},
   "outputs": [
    {
     "data": {
      "text/plain": [
       "array([[184.5149, 126.5849,  88.6725,  22.5669,  48.6397],\n",
       "       [126.5849, 339.4107, 120.9447, 100.3493, 137.3937],\n",
       "       [ 88.6725, 120.9447, 197.1717,  23.8278,  38.6309],\n",
       "       [ 22.5669, 100.3493,  23.8278, 158.0744,  91.6654],\n",
       "       [ 48.6397, 137.3937,  38.6309,  91.6654, 193.7672]], dtype=float32)"
      ]
     },
     "execution_count": 13,
     "metadata": {},
     "output_type": "execute_result"
    }
   ],
   "source": [
    "raw_H_estimates[4]['H'][0]"
   ]
  },
  {
   "cell_type": "code",
   "execution_count": 14,
   "metadata": {},
   "outputs": [
    {
     "data": {
      "text/plain": [
       "array([[0.6639, 0.4555, 0.319 , 0.0812, 0.175 ],\n",
       "       [0.4555, 1.2212, 0.4352, 0.3611, 0.4943],\n",
       "       [0.319 , 0.4352, 0.7094, 0.0857, 0.139 ],\n",
       "       [0.0812, 0.3611, 0.0857, 0.5688, 0.3298],\n",
       "       [0.175 , 0.4943, 0.139 , 0.3298, 0.6972]], dtype=float32)"
      ]
     },
     "execution_count": 14,
     "metadata": {},
     "output_type": "execute_result"
    }
   ],
   "source": [
    "H_1"
   ]
  },
  {
   "cell_type": "code",
   "execution_count": 15,
   "metadata": {},
   "outputs": [
    {
     "data": {
      "text/plain": [
       "Array([[0.4154, 0.5176, 0.4154, 0.1022, 0.1022],\n",
       "       [0.5176, 1.1078, 0.5176, 0.5903, 0.5903],\n",
       "       [0.4154, 0.5176, 0.4154, 0.1022, 0.1022],\n",
       "       [0.1022, 0.5903, 0.1022, 0.4881, 0.4881],\n",
       "       [0.1022, 0.5903, 0.1022, 0.4881, 0.4881]], dtype=float32)"
      ]
     },
     "execution_count": 15,
     "metadata": {},
     "output_type": "execute_result"
    }
   ],
   "source": [
    "true_H/two_one_norm(true_H)"
   ]
  }
 ],
 "metadata": {
  "kernelspec": {
   "display_name": "venv",
   "language": "python",
   "name": "python3"
  },
  "language_info": {
   "codemirror_mode": {
    "name": "ipython",
    "version": 3
   },
   "file_extension": ".py",
   "mimetype": "text/x-python",
   "name": "python",
   "nbconvert_exporter": "python",
   "pygments_lexer": "ipython3",
   "version": "3.10.9"
  },
  "orig_nbformat": 4
 },
 "nbformat": 4,
 "nbformat_minor": 2
}
